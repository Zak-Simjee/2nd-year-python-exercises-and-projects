{
 "cells": [
  {
   "cell_type": "markdown",
   "metadata": {},
   "source": [
    "# Lab 15: Fourier transforms\n",
    "\n",
    "This lab is a brief introduction to *discrete Fourier transforms*, the digital equivalent of the integration we use to perform integrals by hand. The formal definition is\n",
    "\n",
    "$$\n",
    "Y_n = \\sum_{k=0}^{N-1} y_k \\exp\\left\\{-2\\pi \\mathrm i \\frac{kn}{N}\\right\\} \\qquad n = 0,\\ldots,N-1\n",
    "$$\n",
    "\n",
    "with inverse given by \n",
    "\n",
    "$$\n",
    "y_k = \\frac{1}{N}\\sum_{k=0}^{N-1}Y_n\\exp\\left\\{2\\pi \\mathrm i\\frac{kn}{N}\\right\\} \\qquad k = 0,\\ldots,N-1.\n",
    "$$\n",
    "\n",
    "In practice we won't program these sums ourselves, but use the built-in functions from the `numpy.fft` module.\n",
    "\n",
    "As usual, we start by importing some helper routines:"
   ]
  },
  {
   "cell_type": "code",
   "execution_count": null,
   "metadata": {},
   "outputs": [],
   "source": [
    "%matplotlib notebook\n",
    "import numpy as np\n",
    "import matplotlib.pyplot as plt\n",
    "from numpy.fft import fft, ifft, fftfreq, fftshift"
   ]
  },
  {
   "cell_type": "markdown",
   "metadata": {},
   "source": [
    "## The basics\n",
    "\n",
    "We begin by taking the transform of a function we know and understand well: let's sample the function $x = \\cos(2\\pi t)$ over a single period:"
   ]
  },
  {
   "cell_type": "code",
   "execution_count": null,
   "metadata": {},
   "outputs": [],
   "source": [
    "t = np.arange(0, 1, 0.1)\n",
    "x = np.cos(2*np.pi*t)\n",
    "Fx = fft(x)"
   ]
  },
  {
   "cell_type": "markdown",
   "metadata": {},
   "source": [
    "**`print` the discrete Fourier transform `Fx` just to see what this looks like.**"
   ]
  },
  {
   "cell_type": "code",
   "execution_count": null,
   "metadata": {},
   "outputs": [],
   "source": []
  },
  {
   "cell_type": "markdown",
   "metadata": {},
   "source": [
    "Since our original data were sampled from a function of time $t$, the Fourier transform will be a function of frequency $f$ (note: linear, not angular frequency $\\omega$). To plot this, we need to know what values of $f$ correspond to each point. This can be calculated using the built-in function `fftfreq`, which takes two arguments, the number of points and the timestep:"
   ]
  },
  {
   "cell_type": "code",
   "execution_count": null,
   "metadata": {},
   "outputs": [],
   "source": [
    "f = fftfreq(t.size, t[1])"
   ]
  },
  {
   "cell_type": "markdown",
   "metadata": {},
   "source": [
    "**Plot the real part** (`Fx.real`) **of the Fourier transform `Fx` against the frequencies `f`, using points rather than lines** (*i.e.*, 'o' or '.')**. Describe the resulting graph. Is it what you expect?**"
   ]
  },
  {
   "cell_type": "code",
   "execution_count": null,
   "metadata": {},
   "outputs": [],
   "source": []
  },
  {
   "cell_type": "markdown",
   "metadata": {},
   "source": [
    "**What happens to the Fourier transform when you sample for several periods rather than one (*e.g.*, when you change the upper limit of `t` to 2 or 3 or 4)?** \n",
    "\n",
    "**What happens when you increase the sampling frequency of the data (*e.g.*, when you change the time interval, the third argument of `arange`, to 0.05 or 0.01)?**\n",
    "\n",
    "*Extension:* Why is it better to use `arange` here than `linspace`?"
   ]
  },
  {
   "cell_type": "code",
   "execution_count": null,
   "metadata": {},
   "outputs": [],
   "source": []
  },
  {
   "cell_type": "markdown",
   "metadata": {},
   "source": [
    "▶ **CHECKPOINT 1**"
   ]
  },
  {
   "cell_type": "markdown",
   "metadata": {},
   "source": [
    "## Different periodic functions\n",
    "\n",
    "Let's now return to the time range and sampling frequency we started with:"
   ]
  },
  {
   "cell_type": "code",
   "execution_count": null,
   "metadata": {},
   "outputs": [],
   "source": [
    "t = np.arange(0, 1, 0.01)"
   ]
  },
  {
   "cell_type": "markdown",
   "metadata": {},
   "source": [
    "**Calculate and plot the discrete Fourier transforms of the following functions:**\n",
    "\n",
    "1. $x = 3\\cos(2\\pi t) + 2\\cos(3\\times 2\\pi t) + \\cos(5\\times 2\\pi t)$\n",
    "1. $x = 3\\sin(2\\pi t) + 2\\sin(3\\times 2\\pi t) + \\sin(5\\times 2\\pi t)$\n",
    "1. $x = 3\\cos(2\\pi t) + 2\\sin(3\\times 2\\pi t) + \\cos(5\\times 2\\pi t)$\n",
    "\n",
    "**What do you notice? Do these behave as you expect?**\n",
    "\n",
    "*Hint:* You may want to look at the magnitude (`abs(Fx)`) and/or imaginary part (`Fx.imag`) of the Fourier transform, as well as the real part (`Fx.real`)."
   ]
  },
  {
   "cell_type": "code",
   "execution_count": null,
   "metadata": {},
   "outputs": [],
   "source": []
  },
  {
   "cell_type": "markdown",
   "metadata": {},
   "source": [
    "To investigate the effects of an offset in $x$ or $t$, for fun we will use interactive Python widgets. The following code lets you interactively explore the effect of changing $A$ or $B$ in the function $x(t) = A\\sin(2\\pi t + B)$:"
   ]
  },
  {
   "cell_type": "code",
   "execution_count": null,
   "metadata": {},
   "outputs": [],
   "source": [
    "from ipywidgets import interact\n",
    "\n",
    "plt.figure()\n",
    "axes = plt.gca()"
   ]
  },
  {
   "cell_type": "code",
   "execution_count": null,
   "metadata": {},
   "outputs": [],
   "source": [
    "t = np.arange(0, 1, 0.01)\n",
    "\n",
    "@interact(A=(0,10,0.1), B=(0,10,0.1))\n",
    "def showfft(A, B):\n",
    "    x = A*np.sin(2*np.pi*t + B) \n",
    "    Fx = fft(x)\n",
    "    axes.clear()\n",
    "    axes.plot(fftfreq(t.size, t[1]), abs(Fx), 'o')\n",
    "    axes.set_xlim(0, 10)\n",
    "    axes.set_ylim(-500, 1000)"
   ]
  },
  {
   "cell_type": "markdown",
   "metadata": {},
   "source": [
    "**Find the effect of changing $A$ in this equation.**\n",
    "\n",
    "**At the moment it seems like changing $B$ has no effect. Modify the code to show what effect this actually has.** (*Hint*: try plotting the real or imaginary components of the Fourier transform.)\n",
    "\n",
    "**Modify the code to use the equation $x(t) = A\\sin(2\\pi t + B) + C$, where $C$ can now also vary. What effect does this have on the Fourier transform?**"
   ]
  },
  {
   "cell_type": "markdown",
   "metadata": {},
   "source": [
    "▶ **CHECKPOINT 2**"
   ]
  },
  {
   "cell_type": "markdown",
   "metadata": {},
   "source": [
    "## Filtering\n",
    "\n",
    "We'll now see how we can use Fourier transforms to filter out unwanted noise. I've provided some noisy data in the file `signal.txt`:"
   ]
  },
  {
   "cell_type": "code",
   "execution_count": null,
   "metadata": {},
   "outputs": [],
   "source": [
    "noisy_data = np.loadtxt('signal.txt')"
   ]
  },
  {
   "cell_type": "markdown",
   "metadata": {},
   "source": [
    "**Plot these data** and verify that there is no clear signal."
   ]
  },
  {
   "cell_type": "code",
   "execution_count": null,
   "metadata": {},
   "outputs": [],
   "source": []
  },
  {
   "cell_type": "markdown",
   "metadata": {},
   "source": [
    "**Take the Fourier transform of these data and plot the result. What do you notice?**\n",
    "\n",
    "*Hint:* as noted in class, the conventional order for the discrete Fourier transform results is to start with the zero-frequency component, then present positive frequencies increasing until the middle of the data set. Then the most negative frequencies are presented, increasing until zero is reached again at the end of the data set. What this means is that the low-frequency data are clustered at either end of the plot, and the high-frequency data are in the middle.\n",
    "\n",
    "If this is unbearably confusing, then use the built-in function `fftshift` to transform the Fourier transform data so that zero is in the middle, where we might expect it to be. However, you should do this only for your own ease of understanding: continuing the calculations will be easiest with the FT as it is calculated by default."
   ]
  },
  {
   "cell_type": "code",
   "execution_count": null,
   "metadata": {},
   "outputs": [],
   "source": []
  },
  {
   "cell_type": "markdown",
   "metadata": {},
   "source": [
    "Choose carefully the components of the FT that are responsible for the noise, and **set these elements of the FT array to zero.**"
   ]
  },
  {
   "cell_type": "code",
   "execution_count": null,
   "metadata": {},
   "outputs": [],
   "source": []
  },
  {
   "cell_type": "markdown",
   "metadata": {},
   "source": [
    "**Calculate the inverse FT (`ifft`) of the modified FT array, and plot this. Can you see, and interpret, the signal now?**\n",
    "\n",
    "(*Hint:* see https://en.wikipedia.org/wiki/Morse_code if you're struggling.)"
   ]
  },
  {
   "cell_type": "code",
   "execution_count": null,
   "metadata": {},
   "outputs": [],
   "source": []
  },
  {
   "cell_type": "markdown",
   "metadata": {},
   "source": [
    "▶ **CHECKPOINT 3**"
   ]
  },
  {
   "cell_type": "markdown",
   "metadata": {},
   "source": [
    "**Extension**: Take $x(t)$ from one of the anharmonic oscillators in lab 12, and analyse the frequency spectrum.\n",
    "\n",
    "*Hint*: Your data will be cleaner if, as best you can, you sample an integer number of oscillations."
   ]
  },
  {
   "cell_type": "code",
   "execution_count": null,
   "metadata": {},
   "outputs": [],
   "source": []
  }
 ],
 "metadata": {
  "kernelspec": {
   "display_name": "Python 3",
   "language": "python",
   "name": "python3"
  },
  "language_info": {
   "codemirror_mode": {
    "name": "ipython",
    "version": 3
   },
   "file_extension": ".py",
   "mimetype": "text/x-python",
   "name": "python",
   "nbconvert_exporter": "python",
   "pygments_lexer": "ipython3",
   "version": "3.6.3"
  }
 },
 "nbformat": 4,
 "nbformat_minor": 2
}
