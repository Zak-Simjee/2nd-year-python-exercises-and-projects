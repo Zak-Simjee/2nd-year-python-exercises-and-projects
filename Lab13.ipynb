{
 "cells": [
  {
   "cell_type": "markdown",
   "metadata": {},
   "source": [
    "# Lab 13: Eigenvectors and eigenvalues\n",
    "\n",
    "We've already begun to look at how to use numpy `array`s to represent mathematical matrices. In this lab, we'll see some further examples of how matrices are useful in scientific programming: specifically, the important role that the *eigenvectors* and *eigenvalues* of these matrices play. Actually, this sort of analysis is central to disciplines ranging from economics to engineering; here we'll just consider two examples, from physics and ecology."
   ]
  },
  {
   "cell_type": "code",
   "execution_count": null,
   "metadata": {},
   "outputs": [],
   "source": [
    "# Once again we start by importing some standard helper functions:\n",
    "\n",
    "from numpy import array\n",
    "from numpy.linalg import eig"
   ]
  },
  {
   "cell_type": "markdown",
   "metadata": {},
   "source": [
    "## A quick reminder: working with multidimensional arrays\n",
    "\n",
    "Recall that we can make an `array` out of a list (or tuple) by using the `array()` function (actually *every* data type in Python has a function like this named after itself: you will remember that we have already found the `int()` function useful). If we want to create a multidimensional array, we just need to start with nested lists (that is, lists within lists):"
   ]
  },
  {
   "cell_type": "code",
   "execution_count": null,
   "metadata": {},
   "outputs": [],
   "source": [
    "my_matrix = array([[1, 2], [3, 4]])\n",
    "print(my_matrix)"
   ]
  },
  {
   "cell_type": "markdown",
   "metadata": {},
   "source": [
    "Once we have created the array, we can refer to individual elements using the familiar square bracket notation (not forgetting, of course, that indexing always starts from zero, and that negative numbers count from the *end*): "
   ]
  },
  {
   "cell_type": "code",
   "execution_count": null,
   "metadata": {},
   "outputs": [],
   "source": [
    "my_matrix[0, 0]"
   ]
  },
  {
   "cell_type": "code",
   "execution_count": null,
   "metadata": {},
   "outputs": [],
   "source": [
    "my_matrix[0, -1] # In this case, the same as my_matrix[0, 1]"
   ]
  },
  {
   "cell_type": "markdown",
   "metadata": {},
   "source": [
    "If we want to \"slice\" out a whole row or whole column, a colon alone comes in handy:"
   ]
  },
  {
   "cell_type": "code",
   "execution_count": null,
   "metadata": {},
   "outputs": [],
   "source": [
    "my_matrix[:,0] # First column"
   ]
  },
  {
   "cell_type": "code",
   "execution_count": null,
   "metadata": {},
   "outputs": [],
   "source": [
    "my_matrix[1,:] # Second row"
   ]
  },
  {
   "cell_type": "markdown",
   "metadata": {},
   "source": [
    "(Remember that we saw this notation all the way back in Lab 2: `a[1:3]` gives the second and third elements of `a`, `a[1:]` gives the second element and everything thereafter, and therefore `a[:]` gives absolutely everything! Obviously for a one-dimensional list or array there is little reason to use this notation, but it is very useful when dealing with multidimensional arrays.)"
   ]
  },
  {
   "cell_type": "markdown",
   "metadata": {},
   "source": [
    "We can find the eigenvectors and eigenvalues of a matrix together by using the function `eig` from `numpy.linalg`. As a quick reminder of their properties and a test of this function, use Python to **calculate the eigenvectors and eigenvalues of the matrix**\n",
    "\n",
    "$$\\mathbf{M} = \n",
    "\\begin{pmatrix}\n",
    "1 & -2 \\\\ 1 & 4\n",
    "\\end{pmatrix}\n",
    "$$\n",
    "\n",
    "**Check that each eigenvector $\\mathbf{v}$ obeys $\\mathbf{Mv} = \\lambda\\mathbf{v}$, where $\\lambda$ is the corresponding eigenvalue.**\n",
    "\n",
    "*Hint 1:* The `eig` function returns the eigenvectors and eigenvalues as a tuple, so you might like to write something like `eigenvalues, eigenvectors = eig(M)`.\n",
    "\n",
    "*Hint 2:* The eigenvectors are the *columns* of the relevant matrix, so use array slicing as above to isolate them.\n",
    "\n",
    "You might like to check your solutions by hand calculation. Note that eigenvectors are only uniquely specified up to a scalar multiple; Python may not find as neat a solution as you might by hand."
   ]
  },
  {
   "cell_type": "code",
   "execution_count": null,
   "metadata": {},
   "outputs": [],
   "source": []
  },
  {
   "cell_type": "markdown",
   "metadata": {},
   "source": [
    "## An ecology example: Leslie matrices\n",
    "\n",
    "An important task in ecology is to study the population of species as a function of time. If a species has different forms or ages (*e.g.*, for butterflies egg, larva, chrysalis, then adult), the number of each form will depend on the number of the *other* forms in the previous time period: eggs will hatch into larvae, while adults lay eggs.\n",
    "\n",
    "To take a concrete example, let's suppose that some animal has a lifespan of four years: the first year as an infant, the second as an adolescent, the third as a young adult, and the fourth as a mature adult. These animals can reproduce after the first year, but reproduction rates are greater for older animals. Only a few infants survive to adolescence, but there is then a greater chance of surviving to young adulthood and a greater chance still of surviving to maturity. This could be described as a Leslie matrix model:\n",
    "\n",
    "$$\n",
    "\\begin{pmatrix}x_1 \\\\ x_2 \\\\ x_3 \\\\ x_4\\end{pmatrix}_{t=1} = \n",
    "\\begin{pmatrix} 0 & 4 & 20 & 60 \\\\ 0.05 & 0 & 0 & 0 \\\\ 0 & 0.3 & 0 & 0 \\\\ 0 & 0 & 0.6 & 0 \\end{pmatrix}\n",
    "\\begin{pmatrix}x_1 \\\\ x_2 \\\\ x_3 \\\\ x_4\\end{pmatrix}_{t=0}\n",
    "$$\n",
    "\n",
    "where $x_1, \\dots, x_4$ represent the population at each stage of the life cycle, and the square matrix is the Leslie matrix itself.\n",
    "\n",
    "**Represent this matrix in Python.** If the initial populations are $x_1 = 500, x_2 = 50, x_3 = 6, x_4 = 3$, **calculate the populations after 1 year.**"
   ]
  },
  {
   "cell_type": "code",
   "execution_count": null,
   "metadata": {},
   "outputs": [],
   "source": []
  },
  {
   "cell_type": "markdown",
   "metadata": {},
   "source": [
    "**Plot the population of each life stage as a function of time for 20 years.**\n",
    "\n",
    "*Hint:* to accumulate the population over each year, you might want to use the `vstack` command from `numpy`, which as the name suggests \"stacks\" vectors together into a two-dimensional matrix. (The `hstack` command does something very similar.)"
   ]
  },
  {
   "cell_type": "code",
   "execution_count": null,
   "metadata": {},
   "outputs": [],
   "source": []
  },
  {
   "cell_type": "markdown",
   "metadata": {},
   "source": [
    "▶ **CHECKPOINT 1**"
   ]
  },
  {
   "cell_type": "markdown",
   "metadata": {},
   "source": [
    "To analyse the long-term prognosis for this population, we turn to the eigenvalues of the Leslie matrix. The dominant eigenvalue that determines the population in the long term will be the one with the greatest magnitude. If its magnitude is greater than 1, there will be exponential growth, but if it is less than one then this will become exponential decay.\n",
    "\n",
    "**Calculate the eigenvalues and eigenvectors of this matrix. Calculate the magnitudes of the eigenvalues** (the `abs` function will do). Hence **identify the eigenvector responsible for the long-term behaviour of this system.**"
   ]
  },
  {
   "cell_type": "code",
   "execution_count": null,
   "metadata": {},
   "outputs": [],
   "source": []
  },
  {
   "cell_type": "markdown",
   "metadata": {},
   "source": [
    "**What is the long-term population distribution** – that is, for every mature adult, how many young adults, adolescents, and juveniles would you expect? **Do your results match your 20-year calculation above?** \n",
    "\n",
    "(Your answers should of course be real, but feel free to use the `.real` property to get rid of the `+0j`s if they're irritating you!)"
   ]
  },
  {
   "cell_type": "code",
   "execution_count": null,
   "metadata": {},
   "outputs": [],
   "source": []
  },
  {
   "cell_type": "markdown",
   "metadata": {},
   "source": [
    "**Plot a graph of the dominant eigenvalue as a function of the infant survival rate** (*i.e.*, the `[1,0]` element of the Leslie matrix) **over a range just below its initial value of 0.05. How far can this number fall before this animal is at risk of extinction?**"
   ]
  },
  {
   "cell_type": "code",
   "execution_count": null,
   "metadata": {},
   "outputs": [],
   "source": []
  },
  {
   "cell_type": "markdown",
   "metadata": {},
   "source": [
    "▶ **CHECKPOINT 2**"
   ]
  },
  {
   "attachments": {
    "co2.png": {
     "image/png": "[encoded data removed]"
    }
   },
   "cell_type": "markdown",
   "metadata": {},
   "source": [
    "## A physics example: normal modes of vibrating molecules\n",
    "\n",
    "As we saw in class, when the force on some object depends linearly on the positions of *other* objects, we can write the equations of motion as a single matrix equation. This is very often the case for the motion of chemically bonded atoms. For instance, consider a molecule of carbon dioxide:\n",
    "\n",
    "![co2.png](attachment:co2.png)\n",
    "\n",
    "As the diagram suggests, we model this as three point masses connected by ideal springs. The C atom has mass $m$, the O atoms mass $M$, and the bonds have spring constant $J$. Then the equations of motion are\n",
    "\n",
    "$$\n",
    "\\begin{align*}\n",
    "M\\ddot{x}_1 &= -J(x_1 - x_2) \\\\\n",
    "m\\ddot{x}_2 &= -J(x_2 - x_1) - J(x_2 - x_3)\\\\\n",
    "M\\ddot{x}_3 &= -J(x_3 - x_2) \\\\\n",
    "\\end{align*}\n",
    "$$\n",
    "\n",
    "Let's write this as a matrix equation, $\\ddot{\\mathbf{x}} = -\\mathbf{A}\\mathbf{x}$. Then, if $\\mathbf{x}$ is an eigenvector of $\\mathbf{A}$ with positive eigenvalue $\\lambda$, $\\ddot{\\mathbf{x}} = -\\mathbf{A}\\mathbf{x} = -\\lambda\\mathbf{x}$ and we have the equation for simple harmonic motion with frequency $\\sqrt{\\lambda}$.\n",
    "\n",
    "**Convert these equations to a matrix equation of the form above. Find $\\mathbf{A}$ and its eigenvectors and eigenvalues.** Take the mass of the oxygen atom to be $M = 16$ and of the carbon atom to be $m = 12$.\n",
    "\n",
    "*Hint*: you can just set $J = 1$ since this is a common factor in the equation."
   ]
  },
  {
   "cell_type": "code",
   "execution_count": null,
   "metadata": {},
   "outputs": [],
   "source": []
  },
  {
   "cell_type": "markdown",
   "metadata": {},
   "source": [
    "**Sketch the motion of the atoms corresponding to each of the eigenvectors** (that is, draw three copies of the molecule, in each case with each atom displaced in the correct direction according to the corresponding eigenvector). **Do their corresponding eigenvalues make sense?**"
   ]
  },
  {
   "cell_type": "code",
   "execution_count": null,
   "metadata": {},
   "outputs": [],
   "source": []
  },
  {
   "cell_type": "markdown",
   "metadata": {},
   "source": [
    "**In the same way, calculate the normal modes for the linear, tetratomic molecule $\\mathrm{OCCO}$.**\n",
    "\n",
    "(For simplicity, take the C–O and C–C spring constants to be the same. In practice, of course, this will not be the case!)"
   ]
  },
  {
   "cell_type": "code",
   "execution_count": null,
   "metadata": {},
   "outputs": [],
   "source": []
  },
  {
   "cell_type": "markdown",
   "metadata": {},
   "source": [
    "▶ **CHECKPOINT 3**"
   ]
  }
 ],
 "metadata": {
  "kernelspec": {
   "display_name": "Python 3",
   "language": "python",
   "name": "python3"
  },
  "language_info": {
   "codemirror_mode": {
    "name": "ipython",
    "version": 3
   },
   "file_extension": ".py",
   "mimetype": "text/x-python",
   "name": "python",
   "nbconvert_exporter": "python",
   "pygments_lexer": "ipython3",
   "version": "3.6.3"
  }
 },
 "nbformat": 4,
 "nbformat_minor": 2
}
