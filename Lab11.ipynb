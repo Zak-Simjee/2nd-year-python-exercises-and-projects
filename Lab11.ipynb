{
 "cells": [
  {
   "cell_type": "markdown",
   "metadata": {},
   "source": [
    "# Lab 11: Ordinary differential equations (1)\n",
    "\n",
    "In this laboratory we'll begin to investigate ordinary differential equations – *ordinary* as opposed to *partial*, since we will consider only functions of a single variable. We'll begin by investigating first-order ODEs involving scalar functions, then continue to see how higher-order ODEs, coupled ODEs, and vector functions can all be investigated using very similar Python code. Specifically, we will be looking at *initial value problems* where the conditions at $t = 0$ are specified (the alternative, *boundary value problems*, might make an interesting final project).\n",
    "\n",
    "We'll begin by coding two methods to solve ODEs: the very simple Euler method and the only slightly less simple second-order Runge-Kutta method."
   ]
  },
  {
   "cell_type": "code",
   "execution_count": null,
   "metadata": {},
   "outputs": [],
   "source": [
    "# Start by importing our usual helper modules.\n",
    "\n",
    "import numpy as np\n",
    "import matplotlib.pyplot as plt\n",
    "%matplotlib notebook"
   ]
  },
  {
   "cell_type": "markdown",
   "metadata": {},
   "source": [
    "To explore how these solution algorithms work, we'll solve an equation to which we already know the answer. Specifically, we will consider $\\dot x(t) = -kx(t)$, to which the exact solution is of course $x(t) = A\\exp(-kt)$ (and therefore $\\dot x(t) = -kA\\exp(-kt)$).\n",
    "\n",
    "**Write a function `derivative(t, x)` that returns the expected derivative, encoding this equation in Python.** Note that in this case the derivative *doesn't* depend on $t$, and moreover that it *does* depend on the parameter $k$. Nonetheless set up the function in this way for ease of using the Python built-in tools later on."
   ]
  },
  {
   "cell_type": "code",
   "execution_count": null,
   "metadata": {},
   "outputs": [],
   "source": [
    "def derivative(t, x):\n",
    "    return ..."
   ]
  },
  {
   "cell_type": "markdown",
   "metadata": {},
   "source": [
    "## The Euler method\n",
    "\n",
    "Using the Euler method to solve $\\mathrm dx/\\mathrm dt = f(t, x)$, each step follows the following mathematical rules:\n",
    "\n",
    "$$\n",
    "\\begin{align}\n",
    "t_1 &= t_0 + \\Delta t\\\\\n",
    "x_1 &= x_0 + v_0\\Delta t\\\\\n",
    "v_1 &= f(t_1, x_1)\n",
    "\\end{align}\n",
    "$$\n",
    "\n",
    "To use the Euler method to solve this equation, we therefore do the following: \n",
    "\n",
    "We begin by specifying the constant `k`, the timestep `dt`, the total time `t_total`, and the initial conditions `t = 0` and `x = 1`. For convenience, we also start lists that will hold *all* of the `t`, `x`, and `v` values we run through. \n",
    "\n",
    "Then, translating the mathematics above into Python, we proceed as follows:\n",
    "\n",
    "    Loop (t_total / dt) times:\n",
    "        Increase t by dt\n",
    "        Increase x by v*dt\n",
    "        Update v using the derivative function with the new t and x\n",
    "        \n",
    "        Append t to t_list, x to x_list, and v to v_list\n",
    "        \n",
    "**Complete the following code using the algorithm above.**"
   ]
  },
  {
   "cell_type": "code",
   "execution_count": null,
   "metadata": {},
   "outputs": [],
   "source": [
    "k = 1.5\n",
    "dt = 0.35\n",
    "t_total = 5\n",
    "\n",
    "t = 0\n",
    "x = 1\n",
    "v = derivative(t, x)\n",
    "\n",
    "t_list = [t]       \n",
    "x_list = [x] \n",
    "v_list = [v]     \n",
    "\n",
    "for ...:\n",
    "    ...\n",
    "    \n",
    "    t_list.append(t)\n",
    "    x_list.append(x)\n",
    "    v_list.append(v)"
   ]
  },
  {
   "cell_type": "markdown",
   "metadata": {},
   "source": [
    "**Complete the following code to plot the $x$ and $v$ values you obtain as a function of time, along with the exact solution.**"
   ]
  },
  {
   "cell_type": "code",
   "execution_count": null,
   "metadata": {},
   "outputs": [],
   "source": [
    "plt.figure()\n",
    "plt.subplot(2, 1, 1)\n",
    "plt.plot(t_list, x_list, label=\"Euler\")\n",
    "plt.plot(..., ..., label=\"exact\")\n",
    "plt.ylabel(\"$x$\")\n",
    "plt.legend()\n",
    "plt.subplot(2, 1, 2)\n",
    "plt.plot(t_list, v_list, label=\"Euler\")\n",
    "plt.plot(..., ..., label=\"exact\")\n",
    "plt.ylabel(\"$v$\")\n",
    "plt.xlabel(\"$t$\")\n",
    "plt.legend()"
   ]
  },
  {
   "cell_type": "markdown",
   "metadata": {},
   "source": [
    "▶ **CHECKPOINT 1**"
   ]
  },
  {
   "cell_type": "markdown",
   "metadata": {},
   "source": [
    "## The RK2 method\n",
    "\n",
    "To use the second-order Runge-Kutta method, on the other hand, the algorithm is as follows:\n",
    "\n",
    "$$\n",
    "\\begin{align}\n",
    "t_\\text{int} &= t_0 + \\tfrac12\\Delta t\\\\\n",
    "x_\\text{int} &= x_0 + \\tfrac12v_0\\Delta t\\\\\n",
    "v_\\text{int} &= f(t_\\text{int}, x_\\text{int})\\\\\n",
    "\\\\\n",
    "t_1 &= t_0 + \\Delta t\\\\\n",
    "x_1 &= x_0 + v_\\text{int}\\Delta t\\\\\n",
    "v_1 &= f(t_1, x_1)\n",
    "\\end{align}\n",
    "$$\n",
    "        \n",
    "**Complete the following code using this new algorithm.**"
   ]
  },
  {
   "cell_type": "code",
   "execution_count": null,
   "metadata": {},
   "outputs": [],
   "source": [
    "k = 1.5\n",
    "\n",
    "dt = 0.35\n",
    "t = 0\n",
    "x = 1\n",
    "v = derivative(t, x)\n",
    "\n",
    "t_list2 = [t]       \n",
    "x_list2 = [x] \n",
    "v_list2 = [v]   \n",
    "\n",
    "t_total = 5\n",
    "\n",
    "for ...:\n",
    "    ...\n",
    "    \n",
    "    t_list2.append(t)\n",
    "    x_list2.append(x)\n",
    "    v_list2.append(v)"
   ]
  },
  {
   "cell_type": "markdown",
   "metadata": {},
   "source": [
    "**Complete the following code to add your new results to the previous plot. Which of your results is closer to the exact value?**"
   ]
  },
  {
   "cell_type": "code",
   "execution_count": null,
   "metadata": {},
   "outputs": [],
   "source": [
    "plt.figure()\n",
    "plt.subplot(2, 1, 1)\n",
    "plt.plot(t_list, x_list, label=\"Euler\")\n",
    "plt.plot(t_list2, x_list2, label=\"RK2\")\n",
    "plt.plot(..., ..., label=\"exact\")\n",
    "plt.legend()\n",
    "plt.subplot(2, 1, 2)\n",
    "plt.plot(t_list, v_list, label=\"Euler\")\n",
    "plt.plot(t_list2, v_list2, label=\"RK2\")\n",
    "plt.plot(..., ..., label=\"exact\")\n",
    "plt.legend()"
   ]
  },
  {
   "cell_type": "markdown",
   "metadata": {},
   "source": [
    "An even more accurate method, commonly used in practice, is the fourth-order Runge-Kutta method. Rather than code this ourselves, we'll use the built-in method `solve_ivp`:"
   ]
  },
  {
   "cell_type": "code",
   "execution_count": null,
   "metadata": {},
   "outputs": [],
   "source": [
    "from scipy.integrate import solve_ivp"
   ]
  },
  {
   "cell_type": "markdown",
   "metadata": {},
   "source": [
    "**Use this method – remembering to use the online help (`?solve_ivp`) as needed – to solve the same equation. Once again, plot your results with the exact solution.**\n",
    "\n",
    "*Hint:* if you write `RK4_solution = solve_ivp(...)` then you can access the $x$ results as `RK4_solution.y` and the $t$ results as `RK4_solution.t`.\n",
    "\n",
    "*Hint 2:* by default the solution is provided only at a limited number of $t$ values. This is fine, but if you want more, or specific $t$ values, use the `t_eval` optional argument."
   ]
  },
  {
   "cell_type": "code",
   "execution_count": null,
   "metadata": {},
   "outputs": [],
   "source": []
  },
  {
   "cell_type": "markdown",
   "metadata": {},
   "source": [
    "▶ **CHECKPOINT 2**"
   ]
  },
  {
   "cell_type": "markdown",
   "metadata": {},
   "source": [
    "## The harmonic oscillator and energy conservation\n",
    "\n",
    "There is a more important difference between the Euler and RK2 methods, for physics problems, than is initially obvious. To see this, and to extend our method to a second-order equation, we consider a harmonic oscillator:\n",
    "\n",
    "$$\n",
    "\\begin{align}\n",
    "V(x) &= \\tfrac12 k x^2 \\\\\n",
    "F = m\\frac{\\mathrm d^2x}{\\mathrm dt^2} &= -kx\n",
    "\\end{align}\n",
    "$$\n",
    "\n",
    "To represent this in Python, we let `x` be an *array* containing two elements, where the first represents $x$ and the second $\\mathrm dx/\\mathrm dt$. **Complete the following code to represent this in Python:**"
   ]
  },
  {
   "cell_type": "code",
   "execution_count": null,
   "metadata": {},
   "outputs": [],
   "source": [
    "k = 1. \n",
    "m = 1.\n",
    "\n",
    "def derivative_harmonic(t, x):\n",
    "    x0, x1 = x\n",
    "    dx0 = ...\n",
    "    dx1 = ...\n",
    "    return np.array((dx0, dx1))"
   ]
  },
  {
   "cell_type": "markdown",
   "metadata": {},
   "source": [
    "**Complete the following code to solve this equation using the Euler method.** This is almost the same as above; we just need to use the `copy` function to copy `array`s (otherwise we will end up with multiple names for the *same* space in memory, which will give peculiar results!)."
   ]
  },
  {
   "cell_type": "code",
   "execution_count": null,
   "metadata": {},
   "outputs": [],
   "source": [
    "t_total = 10\n",
    "dt = 0.1\n",
    "t = 0\n",
    "x = np.array((1., 0))\n",
    "v = derivative_harmonic(t, x)\n",
    "\n",
    "t_list = [t]       \n",
    "x_list = [x.copy()] \n",
    "v_list = [v.copy()]     \n",
    "\n",
    "for ...:\n",
    "    ...\n",
    "    \n",
    "    t_list.append(t)\n",
    "    x_list.append(x.copy())\n",
    "    v_list.append(v.copy())\n",
    "\n",
    "t_list = np.array(t_list)\n",
    "x_list = np.array(x_list)"
   ]
  },
  {
   "cell_type": "markdown",
   "metadata": {},
   "source": [
    "Now **complete the following code to plot the position $x$, velocity $v$, kinetic energy $K$, potential energy $V$, and total energy $E$ as a function of time. What do you notice?**"
   ]
  },
  {
   "cell_type": "code",
   "execution_count": null,
   "metadata": {},
   "outputs": [],
   "source": [
    "plt.figure()\n",
    "plt.subplot(2, 1, 1)\n",
    "plt.plot(t_list, x_list[:,0], label=\"$x$\")\n",
    "plt.plot(t_list, x_list[:,1], label='$\\\\mathrm{d}x/\\\\mathrm{d}t$')\n",
    "plt.legend()\n",
    "plt.subplot(2, 1, 2)\n",
    "plt.plot(t_list, ..., label=\"$V$\")\n",
    "plt.plot(t_list, ..., label=\"$K$\")\n",
    "plt.plot(t_list, ..., label=\"$E$\")\n",
    "plt.legend()"
   ]
  },
  {
   "cell_type": "markdown",
   "metadata": {},
   "source": [
    "**Copy and modify the code above to perform the same calculation for the RK2 method. Compare the behaviour of the two methods.**\n",
    "\n",
    "▶ **CHECKPOINT 3**"
   ]
  },
  {
   "cell_type": "code",
   "execution_count": null,
   "metadata": {},
   "outputs": [],
   "source": []
  }
 ],
 "metadata": {
  "kernelspec": {
   "display_name": "Python 3",
   "language": "python",
   "name": "python3"
  },
  "language_info": {
   "codemirror_mode": {
    "name": "ipython",
    "version": 3
   },
   "file_extension": ".py",
   "mimetype": "text/x-python",
   "name": "python",
   "nbconvert_exporter": "python",
   "pygments_lexer": "ipython3",
   "version": "3.6.3"
  }
 },
 "nbformat": 4,
 "nbformat_minor": 2
}
