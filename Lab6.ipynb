{
 "cells": [
  {
   "cell_type": "markdown",
   "metadata": {},
   "source": [
    "# Lab 6: Root finding (2)\n",
    "\n",
    "In this lab we will continue our study of root-finding methods, now considering the famous Newton-Raphson algorithm. This requires that we know the function's derivative; we can either specify this by hand or use the differentiation algorithms from Lab 5.\n",
    "\n",
    "## The Newton-Raphson method: basics\n",
    "\n",
    "Recall that the Newton-Raphson algorithm involves linearising the function at some guess $x_0$ – that is, we follow the *derivative* down to the $x$-axis rather than the function itself:\n",
    "\n",
    "![newton.png](attachment:newton.png)\n",
    "\n",
    "Mathematically, \n",
    "$$\n",
    "x_{n+1} = x_n - \\frac{f(x_n)}{f'(x_n)}.\n",
    "$$\n",
    "\n",
    "**Write a function `newton_step(f, fp, x0)` to calculate the next step** (*i.e.*, $x_1$) **from the Newton-Raphson algorithm**, given function `f` and its derivative `fp` (“f prime”) and starting value `x0`."
   ]
  },
  {
   "cell_type": "code",
   "execution_count": 1,
   "metadata": {
    "collapsed": false
   },
   "outputs": [],
   "source": [
    "def newton_step(f, fp, x0):\n",
    "    \"\"\"Perform one step of the Newton-Raphson algorithm.\"\"\"\n",
    "    x = x0 - (f(x0)/fp(x0))\n",
    "    return x\n"
   ]
  },
  {
   "cell_type": "markdown",
   "metadata": {},
   "source": [
    "As a test, let's use this to calculate $\\sqrt{2}$. **Define two (Python) functions** correponding to the mathematical functions $f(x) = x^2 - 2$ and $f'(x) = 2x$. Then **choose a suitable starting guess** and **write a loop to call your Newton-Raphson function until it has converged** – say, until $x_n$ and $x_{n+1}$ differ by less than $10^{-8}$. **Check your result** by squaring it and seeing whether you get 2. **How many iterations were necessary?**"
   ]
  },
  {
   "cell_type": "code",
   "execution_count": 2,
   "metadata": {
    "collapsed": false
   },
   "outputs": [
    {
     "name": "stdout",
     "output_type": "stream",
     "text": [
      "1.4142135623730951\n",
      "2.0000000000000004\n",
      "5\n"
     ]
    }
   ],
   "source": [
    "def f(x):\n",
    "    return (x**2) - 2\n",
    "\n",
    "def fp(x):\n",
    "    return 2*x\n",
    "\n",
    "x0 = 2\n",
    "\n",
    "x = newton_step(f, fp, x0)\n",
    "\n",
    "n = 1\n",
    "\n",
    "while (x0 - x) > 10**-8:\n",
    "    \n",
    "    x = newton_step(f, fp, x)\n",
    "    \n",
    "    x0 = newton_step(f, fp, x0)\n",
    "    \n",
    "    n = n + 1\n",
    "    \n",
    "print(x)\n",
    "print(x**2)\n",
    "print(n)"
   ]
  },
  {
   "cell_type": "markdown",
   "metadata": {},
   "source": [
    "Let's investigate how convergence depends on the starting guess. What happens if you start with a guess that is further away? **Try some different starting guesses and come to a conclusion about how dependent the answer we get is on the starting point. Can you explain your results?** (Suggested guesses to try: $10^5$; $-1$; $0$.)"
   ]
  },
  {
   "cell_type": "code",
   "execution_count": 3,
   "metadata": {
    "collapsed": false
   },
   "outputs": [
    {
     "name": "stdout",
     "output_type": "stream",
     "text": [
      "1.4142135623730951\n",
      "2.0000000000000004\n",
      "21\n",
      "-------------------\n",
      "-1.4166666666666667\n",
      "2.0069444444444446\n",
      "2\n",
      "-------------------\n"
     ]
    },
    {
     "ename": "ZeroDivisionError",
     "evalue": "division by zero",
     "output_type": "error",
     "traceback": [
      "\u001b[0;31m---------------------------------------------------------------------------\u001b[0m",
      "\u001b[0;31mZeroDivisionError\u001b[0m                         Traceback (most recent call last)",
      "\u001b[0;32m<ipython-input-3-cdfd1f6ff19f>\u001b[0m in \u001b[0;36m<module>\u001b[0;34m()\u001b[0m\n\u001b[1;32m     19\u001b[0m \u001b[0mconvergence_test\u001b[0m\u001b[1;33m(\u001b[0m\u001b[0mf\u001b[0m\u001b[1;33m,\u001b[0m \u001b[0mfp\u001b[0m\u001b[1;33m,\u001b[0m \u001b[1;36m10\u001b[0m\u001b[1;33m**\u001b[0m\u001b[1;36m5\u001b[0m\u001b[1;33m)\u001b[0m\u001b[1;33m\u001b[0m\u001b[0m\n\u001b[1;32m     20\u001b[0m \u001b[0mconvergence_test\u001b[0m\u001b[1;33m(\u001b[0m\u001b[0mf\u001b[0m\u001b[1;33m,\u001b[0m \u001b[0mfp\u001b[0m\u001b[1;33m,\u001b[0m \u001b[1;33m-\u001b[0m\u001b[1;36m1\u001b[0m\u001b[1;33m)\u001b[0m\u001b[1;33m\u001b[0m\u001b[0m\n\u001b[0;32m---> 21\u001b[0;31m \u001b[0mconvergence_test\u001b[0m\u001b[1;33m(\u001b[0m\u001b[0mf\u001b[0m\u001b[1;33m,\u001b[0m \u001b[0mfp\u001b[0m\u001b[1;33m,\u001b[0m \u001b[1;36m0\u001b[0m\u001b[1;33m)\u001b[0m\u001b[1;33m\u001b[0m\u001b[0m\n\u001b[0m",
      "\u001b[0;32m<ipython-input-3-cdfd1f6ff19f>\u001b[0m in \u001b[0;36mconvergence_test\u001b[0;34m(f, fp, x0)\u001b[0m\n\u001b[1;32m      1\u001b[0m \u001b[1;32mdef\u001b[0m \u001b[0mconvergence_test\u001b[0m\u001b[1;33m(\u001b[0m\u001b[0mf\u001b[0m\u001b[1;33m,\u001b[0m \u001b[0mfp\u001b[0m\u001b[1;33m,\u001b[0m \u001b[0mx0\u001b[0m\u001b[1;33m)\u001b[0m\u001b[1;33m:\u001b[0m\u001b[1;33m\u001b[0m\u001b[0m\n\u001b[1;32m      2\u001b[0m \u001b[1;33m\u001b[0m\u001b[0m\n\u001b[0;32m----> 3\u001b[0;31m     \u001b[0mx\u001b[0m \u001b[1;33m=\u001b[0m \u001b[0mnewton_step\u001b[0m\u001b[1;33m(\u001b[0m\u001b[0mf\u001b[0m\u001b[1;33m,\u001b[0m \u001b[0mfp\u001b[0m\u001b[1;33m,\u001b[0m \u001b[0mx0\u001b[0m\u001b[1;33m)\u001b[0m\u001b[1;33m\u001b[0m\u001b[0m\n\u001b[0m\u001b[1;32m      4\u001b[0m \u001b[1;33m\u001b[0m\u001b[0m\n\u001b[1;32m      5\u001b[0m     \u001b[0mn\u001b[0m \u001b[1;33m=\u001b[0m \u001b[1;36m1\u001b[0m\u001b[1;33m\u001b[0m\u001b[0m\n",
      "\u001b[0;32m<ipython-input-1-996e6cf93db7>\u001b[0m in \u001b[0;36mnewton_step\u001b[0;34m(f, fp, x0)\u001b[0m\n\u001b[1;32m      1\u001b[0m \u001b[1;32mdef\u001b[0m \u001b[0mnewton_step\u001b[0m\u001b[1;33m(\u001b[0m\u001b[0mf\u001b[0m\u001b[1;33m,\u001b[0m \u001b[0mfp\u001b[0m\u001b[1;33m,\u001b[0m \u001b[0mx0\u001b[0m\u001b[1;33m)\u001b[0m\u001b[1;33m:\u001b[0m\u001b[1;33m\u001b[0m\u001b[0m\n\u001b[1;32m      2\u001b[0m     \u001b[1;34m\"\"\"Perform one step of the Newton-Raphson algorithm.\"\"\"\u001b[0m\u001b[1;33m\u001b[0m\u001b[0m\n\u001b[0;32m----> 3\u001b[0;31m     \u001b[0mx\u001b[0m \u001b[1;33m=\u001b[0m \u001b[0mx0\u001b[0m \u001b[1;33m-\u001b[0m \u001b[1;33m(\u001b[0m\u001b[0mf\u001b[0m\u001b[1;33m(\u001b[0m\u001b[0mx0\u001b[0m\u001b[1;33m)\u001b[0m\u001b[1;33m/\u001b[0m\u001b[0mfp\u001b[0m\u001b[1;33m(\u001b[0m\u001b[0mx0\u001b[0m\u001b[1;33m)\u001b[0m\u001b[1;33m)\u001b[0m\u001b[1;33m\u001b[0m\u001b[0m\n\u001b[0m\u001b[1;32m      4\u001b[0m     \u001b[1;32mreturn\u001b[0m \u001b[0mx\u001b[0m\u001b[1;33m\u001b[0m\u001b[0m\n",
      "\u001b[0;31mZeroDivisionError\u001b[0m: division by zero"
     ]
    }
   ],
   "source": [
    "def convergence_test(f, fp, x0):\n",
    "    \n",
    "    x = newton_step(f, fp, x0)\n",
    "\n",
    "    n = 1\n",
    "\n",
    "    while (x0 - x) > 10**-8:\n",
    "\n",
    "        x = newton_step(f, fp, x)\n",
    "\n",
    "        x0 = newton_step(f, fp, x0)\n",
    "\n",
    "        n = n + 1\n",
    "    print(x)\n",
    "    print(x**2)\n",
    "    print(n)\n",
    "    print('-------------------')\n",
    "\n",
    "convergence_test(f, fp, 10**5)\n",
    "convergence_test(f, fp, -1)\n",
    "convergence_test(f, fp, 0)\n"
   ]
  },
  {
   "cell_type": "markdown",
   "metadata": {},
   "source": [
    "▶ **CHECKPOINT 1**\n",
    "\n",
    "## A trickier example\n",
    "\n",
    "Let's try a more interesting function. We saw in the very first lecture that, in quantum mechanics, the energies available to a particle trapped in a finite well are given by the solutions of equations similar to $\\tan(x) = x$. **Use the Newton-Raphson method to find all solutions to this equation in the range $0 \\leq x \\leq 10$.** \n",
    "\n",
    "*Hint*: You will need to rearrange the equation into the form $g(x) = 0$ for some $g(x)$. You may find it helpful to plot this function first.\n",
    "\n",
    "*Hint 2*: The derivative of $\\tan(x)$ is $\\sec^2(x)$. The `pylab` module does *not* contain a secant function, so you may want to define your own (recalling that $\\sec(x) = 1/\\cos(x)$)."
   ]
  },
  {
   "cell_type": "code",
   "execution_count": 18,
   "metadata": {
    "collapsed": false
   },
   "outputs": [
    {
     "data": {
      "image/png": "[encoded data removed]",
      "text/plain": [
       "<matplotlib.figure.Figure at 0x4b54f56940>"
      ]
     },
     "metadata": {},
     "output_type": "display_data"
    },
    {
     "name": "stdout",
     "output_type": "stream",
     "text": [
      "0.0\n",
      "0.0\n",
      "1\n",
      "-------------------\n",
      "0.00310721441744\n",
      "9.65478143592e-06\n",
      "155356\n",
      "-------------------\n",
      "3.10879629764\n",
      "9.66461442023\n",
      "1\n",
      "-------------------\n",
      "4.25786835824\n",
      "18.1294429561\n",
      "2\n",
      "-------------------\n",
      "2.2598126942\n",
      "5.10675341286\n",
      "4\n",
      "-------------------\n",
      "-111.187594851\n",
      "12362.6812489\n",
      "2\n",
      "-------------------\n",
      "1.86543868859\n",
      "3.47986150089\n",
      "7\n",
      "-------------------\n",
      "4.83999119686\n",
      "23.4255147857\n",
      "7\n",
      "-------------------\n",
      "8.97135978958\n",
      "80.4852964741\n",
      "1\n",
      "-------------------\n",
      "7.73180496397\n",
      "59.7808080009\n",
      "7\n",
      "-------------------\n",
      "5.81123006061\n",
      "33.7703948174\n",
      "18\n",
      "-------------------\n"
     ]
    }
   ],
   "source": [
    "from numpy import tan, cos\n",
    "\n",
    "from pylab import linspace, plot, figure, grid, show, ylim, xlim\n",
    "\n",
    "def g(x):\n",
    "    return tan(x) - x\n",
    "\n",
    "def gp(x):\n",
    "    return (1/(cos(x))**2) - ((x**2)/2)\n",
    "    \n",
    "x = linspace(0,10)\n",
    "y = g(x)\n",
    "plot(x, y)\n",
    "grid()\n",
    "\n",
    "y = gp(x)\n",
    "plot(x,y)\n",
    "\n",
    "ylim(-5,5)\n",
    "\n",
    "show()\n",
    "\n",
    "for i in range(0,11):\n",
    "    convergence_test(g, gp, i)"
   ]
  },
  {
   "cell_type": "code",
   "execution_count": 11,
   "metadata": {
    "collapsed": false
   },
   "outputs": [
    {
     "name": "stdout",
     "output_type": "stream",
     "text": [
      "0.00310721441744\n",
      "9.65478143592e-06\n",
      "155356\n",
      "------------------\n"
     ]
    }
   ],
   "source": [
    "convergence_test(g, gp, 1)"
   ]
  },
  {
   "cell_type": "code",
   "execution_count": 26,
   "metadata": {
    "collapsed": false
   },
   "outputs": [
    {
     "data": {
      "image/png": "[encoded data removed]",
      "text/plain": [
       "<matplotlib.figure.Figure at 0x3f39902c50>"
      ]
     },
     "metadata": {},
     "output_type": "display_data"
    },
    {
     "name": "stdout",
     "output_type": "stream",
     "text": [
      "[range(0, 10)]\n"
     ]
    }
   ],
   "source": [
    "from numpy import tan, cos\n",
    "from pylab import linspace, plot, figure, grid, show, ylim, xlim\n",
    "\n",
    "x = linspace(0,10)\n",
    "\n",
    "y = tan(x) - x\n",
    "\n",
    "grid()\n",
    "\n",
    "plot(x, y)\n",
    "ylim(-5,5)\n",
    "show()"
   ]
  },
  {
   "cell_type": "markdown",
   "metadata": {},
   "source": [
    "**Explore carefully for which starting guesses the Newton-Raphson converges, to which solution, and in how many iterations. Can you explain your results?**\n",
    "\n",
    "(Suggested guesses to try: 4, 4.5, 8)\n",
    "\n",
    "▶ **CHECKPOINT 2**"
   ]
  },
  {
   "cell_type": "markdown",
   "metadata": {},
   "source": [
    "## Using numerical derivatives\n",
    "\n",
    "Of course, sometimes it is inconvenient to program in the derivative of the function we're exploring. Fortunately, last lab we have seen how to calculate the derivative numerically. I have copied below our central-difference function from that lab, setting the default value of the step size $h$ to $10^{-5}$."
   ]
  },
  {
   "cell_type": "code",
   "execution_count": 7,
   "metadata": {
    "collapsed": true
   },
   "outputs": [],
   "source": [
    "def CD(f, x, h=1e-5):\n",
    "    \"\"\"Estimate the derivative f'(x) using the central difference algorithm with step size h.\"\"\"\n",
    "    return (f(x + h/2) - f(x - h/2))/h"
   ]
  },
  {
   "cell_type": "code",
   "execution_count": 19,
   "metadata": {
    "collapsed": false
   },
   "outputs": [
    {
     "name": "stdout",
     "output_type": "stream",
     "text": [
      "0.0\n",
      "0.0\n",
      "1\n",
      "-------------------\n",
      "1\n",
      "6.28528761777e-07\n",
      "3.95048404381e-13\n",
      "66\n",
      "-------------------\n",
      "2\n",
      "2.87655842837\n",
      "8.2745883918\n",
      "1\n",
      "-------------------\n",
      "3\n",
      "157.656557515\n",
      "24855.5901274\n",
      "1\n",
      "-------------------\n",
      "4\n",
      "6.12015848654\n",
      "37.4563399004\n",
      "1\n",
      "-------------------\n",
      "5\n",
      "5.7333393203\n",
      "32.8711797617\n",
      "1\n",
      "-------------------\n",
      "6\n",
      "80.2874848252\n",
      "6446.08021955\n",
      "1\n",
      "-------------------\n",
      "7\n",
      "15.0700260902\n",
      "227.105686359\n",
      "1\n",
      "-------------------\n",
      "8\n",
      "8.32009012786\n",
      "69.2238997357\n",
      "1\n",
      "-------------------\n",
      "9\n",
      "55.2013822929\n",
      "3047.19260705\n",
      "1\n",
      "-------------------\n",
      "10\n",
      "32.2461164226\n",
      "1039.81202434\n",
      "1\n",
      "-------------------\n",
      "11\n"
     ]
    }
   ],
   "source": [
    "def CD_newton_step(f, x0):\n",
    "    x = x0 - (f(x0)/(CD(f,x0)))\n",
    "    return x\n",
    "\n",
    "def CD_convergence_test(f, x0):\n",
    "    \n",
    "    x = CD_newton_step(f, x0)\n",
    "\n",
    "    n = 1\n",
    "\n",
    "    while (x0 - x) > 10**-8:\n",
    "\n",
    "        x = CD_newton_step(f, x)\n",
    "\n",
    "        x0 = CD_newton_step(f, x0)\n",
    "\n",
    "        n = n + 1\n",
    "    print(x)\n",
    "    print(x**2)\n",
    "    print(n)\n",
    "    print('-------------------')\n",
    "n = 0\n",
    "\n",
    "for i in range(0,11):\n",
    "    CD_convergence_test(g, i)\n",
    "    n = n + 1\n",
    "    print(n)"
   ]
  },
  {
   "cell_type": "code",
   "execution_count": 14,
   "metadata": {
    "collapsed": false
   },
   "outputs": [
    {
     "name": "stdout",
     "output_type": "stream",
     "text": [
      "0\n",
      "1\n",
      "2\n",
      "3\n",
      "4\n",
      "5\n",
      "6\n",
      "7\n",
      "8\n",
      "9\n",
      "10\n"
     ]
    }
   ],
   "source": [
    "for i in range(0,11):\n",
    "    print(i)"
   ]
  },
  {
   "cell_type": "markdown",
   "metadata": {},
   "source": [
    "**Write a revised function `newton_CD_step(f, x0)` to perform one step of the Newton-Raphson algorithm, this time using the derivative from the `CD()` function.**\n",
    "\n",
    "**Can you find the same roots using this method as you did using the exact derivative?**\n",
    "\n",
    "▶ **CHECKPOINT 3**"
   ]
  },
  {
   "cell_type": "code",
   "execution_count": null,
   "metadata": {
    "collapsed": true
   },
   "outputs": [],
   "source": []
  },
  {
   "cell_type": "markdown",
   "metadata": {},
   "source": [
    "## Mini-report 1 (10 marks, due Friday 19 October at 1 pm)\n",
    "\n",
    "For this report you don’t need to write an introduction, methods, conclusion, or references section; I simply want results and discussion.\n",
    "\n",
    "Your task is to investigate the root-finding algorithms we’ve learnt: the bisection method, *regula falsi*, and now Newton’s method. An augmented list of our questions from lab 4:\n",
    "\n",
    "- Which functions can these algorithms be applied to? \n",
    "- Can you predict how many iterations they will require? \n",
    "- Is it possible that they will not converge? \n",
    "- Is it possible that they will converge, but not to the nearest root?\n",
    "- Is it possible that they will converge to a value that is not a root?\n",
    "- Is it possible that there is a root within the initial range that they do not find?\n",
    "\n",
    "You may experiment with any function you choose, including the functions from lab 4. For Newton’s method you might like to try $m(x) = \\cos(x)$ (try starting with very small but nonzero numbers), $n(x) = x^3 - 2x + 2$ (try starting with 0, 1, 0.14, 0.141) and, if you are feeling particularly masochistic,\n",
    "$$\n",
    "p(x) = \\begin{cases}\\sqrt{x} & x \\geq 0 \\\\\n",
    "-\\sqrt{-x} & x \\leq 0\\end{cases}.\n",
    "$$\n",
    "\n",
    "Try to come to some general conclusions about where each of these methods is most useful and how they might be sensibly combined."
   ]
  },
  {
   "cell_type": "code",
   "execution_count": null,
   "metadata": {
    "collapsed": true
   },
   "outputs": [],
   "source": []
  }
 ],
 "metadata": {
  "kernelspec": {
   "display_name": "Python 3",
   "language": "python",
   "name": "python3"
  },
  "language_info": {
   "codemirror_mode": {
    "name": "ipython",
    "version": 3
   },
   "file_extension": ".py",
   "mimetype": "text/x-python",
   "name": "python",
   "nbconvert_exporter": "python",
   "pygments_lexer": "ipython3",
   "version": "3.6.0"
  }
 },
 "nbformat": 4,
 "nbformat_minor": 2
}
