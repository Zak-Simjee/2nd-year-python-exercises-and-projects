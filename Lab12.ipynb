{
 "cells": [
  {
   "cell_type": "markdown",
   "metadata": {},
   "source": [
    "# Lab 12: Ordinary differential equations (2)\n",
    "\n",
    "In this lab we'll continue to explore the use of `solve_ivp` to solve differential equations. In particular, we will look at *anharmonic* oscillators, which occur frequently throughout physics but have more complicated solutions than  familiar simple harmonic motion."
   ]
  },
  {
   "cell_type": "code",
   "execution_count": null,
   "metadata": {},
   "outputs": [],
   "source": [
    "import numpy as np\n",
    "import matplotlib.pyplot as plt\n",
    "from scipy.integrate import solve_ivp\n",
    "%matplotlib notebook"
   ]
  },
  {
   "cell_type": "markdown",
   "metadata": {},
   "source": [
    "## Anharmonic oscillator, version 1: asymmetric potential\n",
    "\n",
    "First, consider the following potential:\n",
    "\n",
    "$$\\begin{align}\n",
    "V(x) &= \\tfrac12 k x^2(1 - \\tfrac23 \\alpha x) \\\\\n",
    "F(x) &= -\\frac{\\mathrm dV}{\\mathrm dx} = -kx(1 - \\alpha x) \\\\\n",
    "m\\frac{\\mathrm d^2x}{\\mathrm dt^2} &= -kx(1 - \\alpha x)\n",
    "\\end{align}$$\n",
    "\n",
    "When $\\alpha = 0$, this reduces to the familiar harmonic oscillator, but for $\\alpha > 0$ this produces a weaker restoring force for positive $x$ than for negative $x$.\n",
    "\n",
    "To get a sense of this, **plot $V(x)$ for $k = 1$ and $\\alpha = \\tfrac14$**."
   ]
  },
  {
   "cell_type": "code",
   "execution_count": null,
   "metadata": {},
   "outputs": [],
   "source": []
  },
  {
   "cell_type": "markdown",
   "metadata": {},
   "source": [
    "For the same $k$ and $\\alpha$ values as above, **solve this ODE** with initial conditions $x = -1.9$, $v = 0$, considering a large enough time range to see at least three complete oscillations. **Plot $x$ as a function of $t$.** What do you notice about the shape of this curve? Is it what you expect?"
   ]
  },
  {
   "cell_type": "code",
   "execution_count": null,
   "metadata": {},
   "outputs": [],
   "source": []
  },
  {
   "cell_type": "markdown",
   "metadata": {},
   "source": [
    "On the same axes, **plot the solution for the same initial conditions and value of $k$, but with $\\alpha$ ranging from 0 to 0.3 in steps of 0.05.** How, qualitatively, does $\\alpha$ affect the amplitude and period of oscillation?"
   ]
  },
  {
   "cell_type": "code",
   "execution_count": null,
   "metadata": {},
   "outputs": [],
   "source": []
  },
  {
   "cell_type": "markdown",
   "metadata": {},
   "source": [
    "To make this more quantitative, devise a method to **find the first minimum of each of the curves** in that plot – that is, the period of oscillation. **Plot the period $\\tau$ as a function of $\\alpha$.**\n",
    "\n",
    "*Hint:* use the `numpy.argmin` function to find the index of the minimum value of $x$, then look up this index in the $t$ array."
   ]
  },
  {
   "cell_type": "code",
   "execution_count": null,
   "metadata": {},
   "outputs": [],
   "source": []
  },
  {
   "cell_type": "markdown",
   "metadata": {},
   "source": [
    "In a similar way, setting $\\alpha$ back to $\\tfrac14$, **plot solutions on the same axes for initial $x$ values between $0$ and $-2$.** **Plot the period $\\tau$ as a function of $x_0$** and hence show that, unlike the harmonic oscillator, this anharmonic oscillator is *not isochronous*, that is, the period $\\tau$ depends on the amplitude of oscillation."
   ]
  },
  {
   "cell_type": "code",
   "execution_count": null,
   "metadata": {},
   "outputs": [],
   "source": []
  },
  {
   "cell_type": "markdown",
   "metadata": {},
   "source": [
    "▶ **CHECKPOINT 1**"
   ]
  },
  {
   "cell_type": "markdown",
   "metadata": {},
   "source": [
    "## Anharmonic oscillator, version 2: symmetrical potential\n",
    "\n",
    "An alternative anharmonic potential has no harmonic (second-order) term at all; instead, the leading term is of even order $p \\geq 4$.\n",
    "\n",
    "$$\\begin{align}\n",
    "V(x) &= \\frac kp x^p \\\\\n",
    "F(x) &= -\\frac{\\mathrm dV}{\\mathrm dx} = -kx^{p-1} \\\\\n",
    "m\\frac{\\mathrm d^2x}{\\mathrm dt^2} &= -kx^{p-1}\n",
    "\\end{align}$$\n",
    "\n",
    "**Plot $V(x)$ for $p = 2, 4, 6$.**"
   ]
  },
  {
   "cell_type": "code",
   "execution_count": null,
   "metadata": {},
   "outputs": [],
   "source": []
  },
  {
   "cell_type": "markdown",
   "metadata": {},
   "source": [
    "**Solve this ODE** for the starting conditions $x = -1.5$, $v = 0$, with $k = 1$ and taking even values of $p$ from 2 to 12. **Plot your solutions**, showing $x$ as a function of time."
   ]
  },
  {
   "cell_type": "code",
   "execution_count": null,
   "metadata": {},
   "outputs": [],
   "source": []
  },
  {
   "cell_type": "markdown",
   "metadata": {},
   "source": [
    "Now hold $p = 6$ constant and **plot the solution for a range of initial values of $x$**. Show that, again, an anharmonic oscillator is not isochronous."
   ]
  },
  {
   "cell_type": "code",
   "execution_count": null,
   "metadata": {},
   "outputs": [],
   "source": []
  },
  {
   "cell_type": "markdown",
   "metadata": {},
   "source": [
    "▶ **CHECKPOINT 2**"
   ]
  },
  {
   "cell_type": "markdown",
   "metadata": {},
   "source": [
    "##  Driven oscillations and resonance\n",
    "\n",
    "We now consider the possibility that the force might depend on $t$ as well as $x$. Specifically, we consider the case of an oscillator \"driven\" (or \"forced\") at a particular angular frequency $\\omega$:\n",
    "\n",
    "$$\\begin{align}\n",
    "V(x) &= \\frac kp x^p \\\\\n",
    "F(t, x) &= -\\frac{\\mathrm dV}{\\mathrm dx} + F(t) = -kx^{p-1} + A\\sin(\\omega t)\\\\\n",
    "m\\frac{\\mathrm d^2x}{\\mathrm dt^2} &= -kx^{p-1} + A\\sin(\\omega t)\n",
    "\\end{align}$$\n",
    "\n",
    "To start with, **solve this new equation** for $k = 1$, $p = 2$, $A = 1$, and $\\omega$ distributed between 0.1 and 10. As always, **plot your results.** What do you notice about the amplitude of the oscillations?"
   ]
  },
  {
   "cell_type": "code",
   "execution_count": null,
   "metadata": {},
   "outputs": [],
   "source": []
  },
  {
   "cell_type": "markdown",
   "metadata": {},
   "source": [
    "The phenomenon that you have observed is called *resonance*. Investigate it by **plotting the amplitude of oscillation against the frequency on a log-log plot**, for frequencies $\\omega$ between about 0.01 and 30, and for $p = 2, 4, 6, 8, 10$ (as different curves on the same axes), keeping the other parameters the same. What do you notice about the strength and frequency of the resonance peak?"
   ]
  },
  {
   "cell_type": "code",
   "execution_count": null,
   "metadata": {},
   "outputs": [],
   "source": []
  },
  {
   "cell_type": "markdown",
   "metadata": {},
   "source": [
    "▶ **CHECKPOINT 3**"
   ]
  },
  {
   "cell_type": "markdown",
   "metadata": {},
   "source": [
    "**Extension:** investigate the oscillation patterns of the nonlinear oscillators near their resonant frequencies (that is, at frequencies near the peak in the previous graph). Can you explain what is happening?"
   ]
  },
  {
   "cell_type": "code",
   "execution_count": null,
   "metadata": {},
   "outputs": [],
   "source": []
  }
 ],
 "metadata": {
  "kernelspec": {
   "display_name": "Python 3",
   "language": "python",
   "name": "python3"
  },
  "language_info": {
   "codemirror_mode": {
    "name": "ipython",
    "version": 3
   },
   "file_extension": ".py",
   "mimetype": "text/x-python",
   "name": "python",
   "nbconvert_exporter": "python",
   "pygments_lexer": "ipython3",
   "version": "3.6.3"
  }
 },
 "nbformat": 4,
 "nbformat_minor": 2
}
