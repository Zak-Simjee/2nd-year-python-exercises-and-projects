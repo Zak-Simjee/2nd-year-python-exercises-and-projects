{
 "cells": [
  {
   "cell_type": "markdown",
   "metadata": {},
   "source": [
    "# Lab 1: Revision (1)\n",
    "\n",
    "The aim of this lab is to revise some basics of Python programming, including importing from modules, functions, loops, lists, tuples, and dicts. We'll also introduce a few useful syntactic features. And you'll also have plenty of chance to practice working within a Jupyter notebook.\n",
    "\n",
    "In this and in every lab script, **instructions that you should follow are in bold**. Occasionally there will be *checkpoints*, indicated by the symbol &#9654;. At these points you will be ready to discuss what you have learned with a demonstrator. Once they are satisfied that you understand the concept or code you have been working on, they will award you a point towards your continuous assessment."
   ]
  },
  {
   "cell_type": "markdown",
   "metadata": {},
   "source": [
    "## Jupyter\n",
    "\n",
    "Jupyter notebooks are a user-friendly way of running snippets of code and displaying text or graphical results: it's easy to edit your code or to share the results. They are a very convenient way to do initial exploration of a data set or algorithm, although they are *not* necessarily the best way of running a completed program. All of the computer labs will be Jupyter notebooks, and this is also the format in which we would like you to hand in your reports.\n",
    "\n",
    "The editable boxes you can type code into are called *cells*. To evaluate a cell, simply make sure that the cursor is in the cell (you may need to double-click it) then press `Shift` + `Enter`. As an example, **enter a simple arithmetic operation, say `2 + 2`, into the cell below, and evaluate it:**"
   ]
  },
  {
   "cell_type": "code",
   "execution_count": 5,
   "metadata": {
    "collapsed": false
   },
   "outputs": [
    {
     "data": {
      "text/plain": [
       "4"
      ]
     },
     "execution_count": 5,
     "metadata": {},
     "output_type": "execute_result"
    }
   ],
   "source": [
    "2+2"
   ]
  },
  {
   "cell_type": "markdown",
   "metadata": {},
   "source": [
    "You will see that this cell now has a number, like `In [1]`, so that you can refer back to it. Jupyter will display the result of the final calculation in a cell: the output from this one, `Out[1]: 4`, will now be displayed beneath it. And your cursor will have been moved forward to the next cell.\n",
    "\n",
    "(You can also type `Ctrl` + `Enter` to run the cell and keep the cursor inside it – perhaps for more editing – or `Alt` + `Enter` to run the cell and insert a new one beneath it. These and many other commands can be found in the *command palette* by clicking the keyboard icon at the top of the page.)\n",
    "\n",
    "You can type more than a single line into a cell. For instance, consider the simple program below. This calculates the distance that an object, initially at rest, falls under gravitational acceleration in a given time $t$, according to $s = \\frac{1}{2}gt^2$. **Evaluate this cell:**"
   ]
  },
  {
   "cell_type": "code",
   "execution_count": 6,
   "metadata": {
    "collapsed": false
   },
   "outputs": [
    {
     "name": "stdout",
     "output_type": "stream",
     "text": [
      "1962.0\n"
     ]
    }
   ],
   "source": [
    "g = 9.81 # acceleration due to gravity, in m.s^-1\n",
    "t = 20   # time in seconds\n",
    "\n",
    "s = 0.5*g*t**2 # remember that exponentiation is represented in Python by **\n",
    "\n",
    "print(s)"
   ]
  },
  {
   "cell_type": "markdown",
   "metadata": {},
   "source": [
    "Note that we didn't have to declare the variables `g`, `t`, or `s` in advance: these \"labels\" are simply created for us by Python when we start using them.\n",
    "\n",
    "Now choose a different time, say $t = 20$. **Edit the cell above, evaluate it, and confirm that the program prints the correct answer `1962.0`.**"
   ]
  },
  {
   "cell_type": "markdown",
   "metadata": {},
   "source": [
    "To annotate your code, you will also need to be able to edit text boxes like these. **Select the cell below and use the drop-down menu at the top of the page to change its type to \"Markdown\". Type in your name and evaluate the cell.**"
   ]
  },
  {
   "cell_type": "markdown",
   "metadata": {},
   "source": [
    "Zaakir"
   ]
  },
  {
   "cell_type": "markdown",
   "metadata": {},
   "source": [
    "Occasionally it is useful to enter a command for Jupyter itself rather than Python. These commands, colloquially known as \"magic\", start with a percentage sign, `%`. We will see some of these later in the module, but let's consider a simple example now. How long does it take to calculate the displacement using the formula above? **Evaluate the cell below:**"
   ]
  },
  {
   "cell_type": "code",
   "execution_count": 7,
   "metadata": {
    "collapsed": false
   },
   "outputs": [
    {
     "name": "stdout",
     "output_type": "stream",
     "text": [
      "The slowest run took 8.62 times longer than the fastest. This could mean that an intermediate result is being cached.\n",
      "1000000 loops, best of 3: 307 ns per loop\n"
     ]
    }
   ],
   "source": [
    "%timeit s = 0.5*g*t**2"
   ]
  },
  {
   "cell_type": "markdown",
   "metadata": {},
   "source": [
    "## Functions\n",
    "\n",
    "Recall that in Python we can wrap up any piece of code, especially if we might want to re-use it, into a *function*. To do this we use the keyword `def`. As an example, let's turn the simple program above into a function. **Evaluate the cell below:**"
   ]
  },
  {
   "cell_type": "code",
   "execution_count": 9,
   "metadata": {
    "collapsed": true
   },
   "outputs": [],
   "source": [
    "def free_fall_displacement(t, g):\n",
    "    s = 0.5*g*t**2 \n",
    "    return s"
   ]
  },
  {
   "cell_type": "markdown",
   "metadata": {},
   "source": [
    "Some points to notice:\n",
    "1. We have given our function the name `free_fall_displacement`. Descriptive names are always good!\n",
    "1. The function has two *arguments*, `t` and `g`. These go in brackets after the function name. Rather than setting `g` and `t` explicitly, as we did in the previous program, we will specify these when we call the function.\n",
    "1. We have shown which lines of code are part of the function by pressing `Tab` before them to indent them. Anything indented is part of the function; anything on the same level as the `def` keyword is not. This way of delineating blocks of code is common in Python, as we'll see.\n",
    "1. Rather than printing the result, we use the keyword `return`. This specifies the \"result\" of running this code: when we *call* this function, it will be replaced by the value it returns, here the value of the variable `s`.\n",
    "\n",
    "Putting this all together, we can now *call* our function. In the cell below, **type in \"fr\", then press `Tab`**. You will see that Jupyter recognises a name we've previously used, and completes `free_fall_displacement` for you. **Keep typing so that the cell reads `free_fall_displacement(10, 9.81)`, then evaluate it.**"
   ]
  },
  {
   "cell_type": "code",
   "execution_count": 10,
   "metadata": {
    "collapsed": false
   },
   "outputs": [
    {
     "data": {
      "text/plain": [
       "490.5"
      ]
     },
     "execution_count": 10,
     "metadata": {},
     "output_type": "execute_result"
    }
   ],
   "source": [
    "free_fall_displacement(10, 9.81)"
   ]
  },
  {
   "cell_type": "markdown",
   "metadata": {},
   "source": [
    "Let's refine the function a little. **Evaluate the cell below:**"
   ]
  },
  {
   "cell_type": "code",
   "execution_count": 25,
   "metadata": {
    "collapsed": true
   },
   "outputs": [],
   "source": [
    "def free_fall_displacement(t, g = 9.81):\n",
    "    \"\"\"Calculates the displacement after time t of free fall with acceleration g.\"\"\"\n",
    "    s = 0.5*g*t**2 \n",
    "    return s"
   ]
  },
  {
   "cell_type": "markdown",
   "metadata": {},
   "source": [
    "(Note that executing this code has overwritten the previous definition of the function. If you want to return to the previous version, of course you can just scroll up and evaluate the original cell again.)\n",
    "\n",
    "There are two changes in this version. First, we have added a string that describes what the function does to the second line, as a helpful form of documentation. **To see what this does, type `?free_fall_displacement`** (using `Tab`-completion if you like!) **in the cell below and evaluate it:**"
   ]
  },
  {
   "cell_type": "code",
   "execution_count": 53,
   "metadata": {
    "collapsed": false
   },
   "outputs": [],
   "source": [
    "?free_fall_displacement"
   ]
  },
  {
   "cell_type": "markdown",
   "metadata": {},
   "source": [
    "The second change is that we have specified a *default* value of `g`, here 9.81. This means that we no longer have to specify a value of `g` when we call the function. To demonstrate, **type `free_fall_displacement(10)` below and evaluate the cell.**"
   ]
  },
  {
   "cell_type": "code",
   "execution_count": 19,
   "metadata": {
    "collapsed": false
   },
   "outputs": [
    {
     "data": {
      "text/plain": [
       "490.5"
      ]
     },
     "execution_count": 19,
     "metadata": {},
     "output_type": "execute_result"
    }
   ],
   "source": [
    "free_fall_displacement(10)"
   ]
  },
  {
   "cell_type": "markdown",
   "metadata": {},
   "source": [
    "What happens if you try calling the function with no arguments at all, `free_fall_displacement()`? **Create a new cell below and try this out. Then create a Markdown cell below it and type a sentence or two of explanation.**"
   ]
  },
  {
   "cell_type": "code",
   "execution_count": 22,
   "metadata": {
    "collapsed": false
   },
   "outputs": [
    {
     "ename": "TypeError",
     "evalue": "free_fall_displacement() missing 1 required positional argument: 't'",
     "output_type": "error",
     "traceback": [
      "\u001b[0;31m---------------------------------------------------------------------------\u001b[0m",
      "\u001b[0;31mTypeError\u001b[0m                                 Traceback (most recent call last)",
      "\u001b[0;32m<ipython-input-22-2df97186a5aa>\u001b[0m in \u001b[0;36m<module>\u001b[0;34m()\u001b[0m\n\u001b[0;32m----> 1\u001b[0;31m \u001b[0mfree_fall_displacement\u001b[0m\u001b[1;33m(\u001b[0m\u001b[1;33m)\u001b[0m\u001b[1;33m\u001b[0m\u001b[0m\n\u001b[0m",
      "\u001b[0;31mTypeError\u001b[0m: free_fall_displacement() missing 1 required positional argument: 't'"
     ]
    }
   ],
   "source": [
    "free_fall_displacement()"
   ]
  },
  {
   "cell_type": "markdown",
   "metadata": {},
   "source": [
    "As there is no value set for variable t, the function cannot calculate and return a value for s."
   ]
  },
  {
   "cell_type": "markdown",
   "metadata": {},
   "source": [
    "## Branching\n",
    "\n",
    "Almost all algorithms have *decision points*, where what happens next has to be decided based on, say, the value of a variable. In Python this is done using the `if` statement. **Evaluate the following cell.**\n",
    "\n",
    "(Note the *comment* starting with the `#` character. It is a good idea to leave comments throughout your code to explain *why* you are doing what you're doing.)"
   ]
  },
  {
   "cell_type": "code",
   "execution_count": 32,
   "metadata": {
    "collapsed": false
   },
   "outputs": [
    {
     "name": "stdout",
     "output_type": "stream",
     "text": [
      "4  is positive\n"
     ]
    }
   ],
   "source": [
    "number = 4\n",
    "\n",
    "# Check for an acceptable value of `number`.\n",
    "if number > 0:\n",
    "    print (number, \" is positive\")"
   ]
  },
  {
   "cell_type": "markdown",
   "metadata": {},
   "source": [
    "**Now change the definition of `number`, *without changing anything in the subsequent code*, so that some output will be printed, and evaluate the cell again to check.**\n",
    "\n",
    "Sometimes we want to use one set of instructions if a condition holds, and another if it does not. **Evaluate the following cell:**"
   ]
  },
  {
   "cell_type": "code",
   "execution_count": 29,
   "metadata": {
    "collapsed": false
   },
   "outputs": [
    {
     "name": "stdout",
     "output_type": "stream",
     "text": [
      "-3 is negative or zero\n"
     ]
    }
   ],
   "source": [
    "number = -3\n",
    "\n",
    "if number > 0:\n",
    "    print (number, \"is positive\")\n",
    "else:\n",
    "    print (number, \"is negative or zero\")"
   ]
  },
  {
   "cell_type": "markdown",
   "metadata": {},
   "source": [
    "If we want to chain lots of these statements together, the `elif` statement comes in handy: this is short for `else if`. **Evaluate the following cell.**\n",
    "\n",
    "(Note, incidentally, the difference between the *assignment* operator `=` on the first line, used to set `number` to -3, and the *comparison* operator `==` later on, used to compare `number` to zero.)"
   ]
  },
  {
   "cell_type": "code",
   "execution_count": 33,
   "metadata": {
    "collapsed": false
   },
   "outputs": [
    {
     "name": "stdout",
     "output_type": "stream",
     "text": [
      "-3 is negative\n"
     ]
    }
   ],
   "source": [
    "number = -3\n",
    "\n",
    "if number > 0:\n",
    "    print (number, \"is positive\")\n",
    "elif number == 0: \n",
    "    print (number, \"is zero\")\n",
    "else:\n",
    "    print (number, \"is negative\")"
   ]
  },
  {
   "cell_type": "markdown",
   "metadata": {},
   "source": [
    "Consider the following function. **Try evaluating it with different values of the argument N. What is wrong with its logic? Can you fix it?**"
   ]
  },
  {
   "cell_type": "code",
   "execution_count": 57,
   "metadata": {
    "collapsed": false
   },
   "outputs": [
    {
     "name": "stdout",
     "output_type": "stream",
     "text": [
      "Too high, please try again.\n"
     ]
    }
   ],
   "source": [
    "\n",
    "def check_input(N):\n",
    "    \"\"\"Checks that an input number is within the range 1-10.\"\"\"\n",
    "    if N < 1:\n",
    "        print(\"Too low, please try again.\")\n",
    "    elif N > 10:\n",
    "        print(\"Too high, please try again.\")\n",
    "    else:\n",
    "        print(\"Valid input.\")\n",
    "check_input(11)"
   ]
  },
  {
   "cell_type": "markdown",
   "metadata": {},
   "source": [
    "▶ **CHECKPOINT 1**"
   ]
  },
  {
   "cell_type": "markdown",
   "metadata": {},
   "source": [
    "## Data types\n",
    "\n",
    "Python uses \"duck typing\": variables don't need to have their data type predefined, but change automatically as you use them. Nonetheless, it's often important to be aware of what's going on behind the scenes.\n",
    "\n",
    "Some of the numeric types are listed in the following table; we'll talk more about these next week.\n",
    "\n",
    "Short name | English name | Example\n",
    "-----------|--------------|---------\n",
    "`int`      | integer      | 3\n",
    "`float`    | floating-point number | `3.5e-9` $=3.5\\times 10^9$\n",
    "`complex`  | complex number | `1 + 2j` $= 1 + 2\\sqrt{-1}$\n",
    "`bool`     | Boolean (true/false) value | `True `\n",
    "\n",
    "There are also data types that we might consider \"collections\": sequences or sets of data. Some of these are the following:\n",
    "\n",
    "Short name | Example | Note\n",
    "-----------|---------|------\n",
    "`str`   | \"Hello\"           | A string is essentially just a sequence of characters. Mutable (can be changed).\n",
    "`list`  | `['a', 'b', 'a']` | Mutable (can be changed).\n",
    "`tuple` | `('a', 'b', 'a')` | Immutable. Generated automatically if a list of items is given.\n",
    "`dict`  | `{'a': 1, 'b': 2}`| Indexed by a set of *keys* rather than just numbers.\n",
    "`set`   | `{'a', 'b'}`      | Can only have any given entry once. \n",
    "\n",
    "Don't worry if the \"Note\" column doesn't make too much sense at this stage: it's provided here just for reference. In the next section we'll explore the use of some of these data types (the rest will come next lab)."
   ]
  },
  {
   "cell_type": "markdown",
   "metadata": {},
   "source": [
    "## Lists\n",
    "\n",
    "As the name suggests, a Python `list` is just an ordered collection of data. Recall that these are written within square brackets. For instance, the code below creates a list of three items. (From now on, when you come to a cell containing code, you should **evaluate it.**)"
   ]
  },
  {
   "cell_type": "code",
   "execution_count": 58,
   "metadata": {
    "collapsed": true
   },
   "outputs": [],
   "source": [
    "my_list = ['Hello', 2, 3.14159]"
   ]
  },
  {
   "cell_type": "markdown",
   "metadata": {},
   "source": [
    "Note that the three *elements* of the list are all of different types: a string, an integer, and a floating-point number. We can reference elements of the list also using square brackets; note that the numbering starts from zero:"
   ]
  },
  {
   "cell_type": "code",
   "execution_count": 59,
   "metadata": {
    "collapsed": false
   },
   "outputs": [
    {
     "data": {
      "text/plain": [
       "'Hello'"
      ]
     },
     "execution_count": 59,
     "metadata": {},
     "output_type": "execute_result"
    }
   ],
   "source": [
    "my_list[0]"
   ]
  },
  {
   "cell_type": "markdown",
   "metadata": {},
   "source": [
    "We can also choose a subsection of the list – what in Python is often called a *slice* – by using two indices with a colon:"
   ]
  },
  {
   "cell_type": "code",
   "execution_count": 62,
   "metadata": {
    "collapsed": false
   },
   "outputs": [
    {
     "data": {
      "text/plain": [
       "[2, 3.14159]"
      ]
     },
     "execution_count": 62,
     "metadata": {},
     "output_type": "execute_result"
    }
   ],
   "source": [
    "my_list[1:3]"
   ]
  },
  {
   "cell_type": "markdown",
   "metadata": {},
   "source": [
    "Note the way it works: the first index (`mylist[1]`) is *included*, the second (`mylist[3]`) *not*. This can be a little confusing, but has the advantage that the number of elements in the slice `[m:n]` is always `n - m`.\n",
    "\n",
    "Either `m` or `n` can be omitted in slice notation: this just makes a slice that goes from the beginning or to the end of a list:"
   ]
  },
  {
   "cell_type": "code",
   "execution_count": 65,
   "metadata": {
    "collapsed": false
   },
   "outputs": [
    {
     "data": {
      "text/plain": [
       "['Hello', 2]"
      ]
     },
     "execution_count": 65,
     "metadata": {},
     "output_type": "execute_result"
    }
   ],
   "source": [
    "my_list[:2]"
   ]
  },
  {
   "cell_type": "markdown",
   "metadata": {},
   "source": [
    "The length of a list is given by the built-in function `len`:"
   ]
  },
  {
   "cell_type": "code",
   "execution_count": null,
   "metadata": {
    "collapsed": true
   },
   "outputs": [],
   "source": [
    "len(my_list)"
   ]
  },
  {
   "cell_type": "markdown",
   "metadata": {},
   "source": [
    "**Try typing `?len` in the cell below and evaluating it.** This is a useful way to find out more about a Python command or function you're not sure about using!"
   ]
  },
  {
   "cell_type": "code",
   "execution_count": 67,
   "metadata": {
    "collapsed": false
   },
   "outputs": [],
   "source": [
    "?len"
   ]
  },
  {
   "cell_type": "markdown",
   "metadata": {},
   "source": [
    "You can use the `append` function to add a single item to a list:"
   ]
  },
  {
   "cell_type": "code",
   "execution_count": 68,
   "metadata": {
    "collapsed": false
   },
   "outputs": [
    {
     "name": "stdout",
     "output_type": "stream",
     "text": [
      "['Hello', 2, 3.14159, \"I'm new!\"]\n"
     ]
    }
   ],
   "source": [
    "my_list.append(\"I'm new!\") # note that I use double quotes to easily include a single quote in the string\n",
    "print(my_list)"
   ]
  },
  {
   "cell_type": "markdown",
   "metadata": {},
   "source": [
    "Alternatively, if you have lots of items to add, you can combine lists by using the ordinary `+` symbol:"
   ]
  },
  {
   "cell_type": "code",
   "execution_count": 69,
   "metadata": {
    "collapsed": false
   },
   "outputs": [
    {
     "data": {
      "text/plain": [
       "[1, 2, 3, 7, 8, 9]"
      ]
     },
     "execution_count": 69,
     "metadata": {},
     "output_type": "execute_result"
    }
   ],
   "source": [
    "[1, 2, 3] + [7, 8, 9]"
   ]
  },
  {
   "cell_type": "markdown",
   "metadata": {},
   "source": [
    "Try putting some of these techniques together by **writing a function to \"roll\" a list by two elements, taking the first two elements and putting them at the end.**"
   ]
  },
  {
   "cell_type": "code",
   "execution_count": 106,
   "metadata": {
    "collapsed": true
   },
   "outputs": [],
   "source": [
    "def roll_two(L):\n",
    "    \"\"\"'Rolls' the list L by two elements, so that the first two elements become the last.\"\"\"\n",
    "    # your code goes here\n",
    "    L.append(L[0])\n",
    "    L.append(L[1])\n",
    "    L.remove(L[0])\n",
    "    L.remove(L[0])\n",
    "    print(L)\n",
    "    "
   ]
  },
  {
   "cell_type": "markdown",
   "metadata": {},
   "source": [
    "**Test your code** by evaluating the following cell:"
   ]
  },
  {
   "cell_type": "code",
   "execution_count": 107,
   "metadata": {
    "collapsed": false
   },
   "outputs": [
    {
     "name": "stdout",
     "output_type": "stream",
     "text": [
      "['c', 'd', 'e', 'a', 'b']\n"
     ]
    }
   ],
   "source": [
    "roll_two(['a', 'b', 'c', 'd', 'e'])"
   ]
  },
  {
   "cell_type": "markdown",
   "metadata": {},
   "source": [
    "The output should be `['c', 'd', 'e', 'a', 'b']`."
   ]
  },
  {
   "cell_type": "markdown",
   "metadata": {},
   "source": [
    "Now **modify your function to \"roll\" the list by any number N of elements.**"
   ]
  },
  {
   "cell_type": "code",
   "execution_count": 119,
   "metadata": {
    "collapsed": false
   },
   "outputs": [],
   "source": [
    "def roll_N(L, N):\n",
    "    \"\"\"'Rolls' the list L by N elements, so that the first N elements become the last.\"\"\"\n",
    "    # your code goes here\n",
    "    \n",
    "    L = L + L[0:N]\n",
    "    \n",
    "    for i in range(N):\n",
    "        L.remove(L[0])\n",
    "    return(L)\n"
   ]
  },
  {
   "cell_type": "markdown",
   "metadata": {},
   "source": [
    "**Test your code** by evaluating the following cell:"
   ]
  },
  {
   "cell_type": "code",
   "execution_count": 120,
   "metadata": {
    "collapsed": false
   },
   "outputs": [
    {
     "data": {
      "text/plain": [
       "['d', 'e', 'a', 'b', 'c']"
      ]
     },
     "execution_count": 120,
     "metadata": {},
     "output_type": "execute_result"
    }
   ],
   "source": [
    "roll_N(['a', 'b', 'c', 'd', 'e'], 3)"
   ]
  },
  {
   "cell_type": "markdown",
   "metadata": {},
   "source": [
    "The output should be `['d', 'e', 'a', 'b', 'c']`."
   ]
  },
  {
   "cell_type": "markdown",
   "metadata": {},
   "source": [
    "▶ **CHECKPOINT 2**"
   ]
  },
  {
   "cell_type": "markdown",
   "metadata": {},
   "source": [
    "## Loops\n",
    "### `for` loops 1: running a given number of times\n",
    "\n",
    "Recall that a *loop* in a computer program is a way of running the same set of instructions multiple times. The simplest case is where we know in advance how many times we want to code to run. In Python this is accomplished using the `for` command:"
   ]
  },
  {
   "cell_type": "code",
   "execution_count": 136,
   "metadata": {
    "collapsed": false
   },
   "outputs": [
    {
     "name": "stdout",
     "output_type": "stream",
     "text": [
      "Looping with i = 0\n",
      "Looping with i = 1\n",
      "Looping with i = 2\n",
      "Looping with i = 3\n",
      "Looping with i = 4\n"
     ]
    }
   ],
   "source": [
    "for i in range(5):\n",
    "    print(\"Looping with i =\" , i)"
   ]
  },
  {
   "cell_type": "markdown",
   "metadata": {},
   "source": [
    "In this example the `print` command is run 5 times: each time the value of the variable `i` changes. Note that, just as for string slicing, the range begins with zero. If we want to specify a different starting point, we can do so as follows:"
   ]
  },
  {
   "cell_type": "code",
   "execution_count": 137,
   "metadata": {
    "collapsed": false
   },
   "outputs": [
    {
     "name": "stdout",
     "output_type": "stream",
     "text": [
      "Looping with i = 5\n",
      "Looping with i = 6\n",
      "Looping with i = 7\n",
      "Looping with i = 8\n",
      "Looping with i = 9\n"
     ]
    }
   ],
   "source": [
    "for i in range(5, 10):\n",
    "    print(\"Looping with i =\", i)"
   ]
  },
  {
   "cell_type": "markdown",
   "metadata": {},
   "source": [
    "**Write a function `draw_triangle(N)` to draw a triangle using \"O\" characters, with a base of N characters**. \n",
    "\n",
    "*Example use:* `draw_triangle(5)` should give the output\n",
    "```\n",
    "O\n",
    "OO\n",
    "OOO\n",
    "OOOO\n",
    "OOOOO\n",
    "```\n",
    "*Hint:* you can use the `*` operator to repeat a string. Try evaluating `\"hello \" * 3`: can you see how this helps?"
   ]
  },
  {
   "cell_type": "code",
   "execution_count": 145,
   "metadata": {
    "collapsed": false
   },
   "outputs": [
    {
     "name": "stdout",
     "output_type": "stream",
     "text": [
      "O\n",
      "OO\n",
      "OOO\n",
      "OOOO\n",
      "OOOOO\n"
     ]
    }
   ],
   "source": [
    "def draw_triangle(N):\n",
    "    x = 'O'\n",
    "    for i in range (N):\n",
    "        print(x)\n",
    "        x = x + 'O'\n",
    "        \n",
    "draw_triangle(5)"
   ]
  },
  {
   "cell_type": "markdown",
   "metadata": {},
   "source": [
    "**Evaluate the cell below and look carefully at the output:**"
   ]
  },
  {
   "cell_type": "code",
   "execution_count": 146,
   "metadata": {
    "collapsed": false
   },
   "outputs": [
    {
     "name": "stdout",
     "output_type": "stream",
     "text": [
      "Looping with i = 4\n",
      "Looping with i = 6\n",
      "Looping with i = 8\n"
     ]
    }
   ],
   "source": [
    "for i in range(4, 10, 2):\n",
    "    print(\"Looping with i =\", i)"
   ]
  },
  {
   "cell_type": "markdown",
   "metadata": {},
   "source": [
    "**Hence modify your function to give a new function `draw_upside_down_triangle`, which will draw the same triangle \"upside-down\".** \n",
    "\n",
    "*Example use:* `draw_upside_down_triangle(5)` should give the output\n",
    "```\n",
    "OOOOO\n",
    "OOOO\n",
    "OOO\n",
    "OO\n",
    "O\n",
    "```"
   ]
  },
  {
   "cell_type": "code",
   "execution_count": 148,
   "metadata": {
    "collapsed": false
   },
   "outputs": [
    {
     "name": "stdout",
     "output_type": "stream",
     "text": [
      "OOOOO\n",
      "OOOO\n",
      "OOO\n",
      "OO\n",
      "O\n"
     ]
    }
   ],
   "source": [
    "def draw_upside_down_triangle(N):\n",
    "    x = ('O'* N)\n",
    "    for i in range(N):\n",
    "        print(x)\n",
    "        N = N - 1\n",
    "        x = ('O'* N) \n",
    "draw_upside_down_triangle(5)        "
   ]
  },
  {
   "cell_type": "markdown",
   "metadata": {},
   "source": [
    "**Using your `roll_N` function from above, write a function that decides whether two lists are \"circularly identical\".** That is, if rolling by *any* number `N` makes the lists identical, the function should return `True`, otherwise it should return `False`.\n",
    "\n",
    "*Example use:* \n",
    "- `circularly_identical([1,2,3,4,5,6], [5,6,1,2,3,4])` should give `True`. \n",
    "- `circularly_identical([1,2,3,4,5,6], [1,2,3,4])` should give `False`. \n",
    "- `circularly_identical([1,2,3,4,5,6], [1,2,3,4,6,5])` should give `False`.\n",
    "\n",
    "*Hint:* you can use the `==` operator to compare any two objects, including two lists. Try evaluating `2 == 2` and `2 == 3` to see how this works. The opposite is `!=`."
   ]
  },
  {
   "cell_type": "code",
   "execution_count": 130,
   "metadata": {
    "collapsed": false
   },
   "outputs": [
    {
     "name": "stdout",
     "output_type": "stream",
     "text": [
      "[5, 6, 1, 2, 3, 4]\n",
      "[1, 2, 3, 4, 6, 5]\n",
      "False\n"
     ]
    }
   ],
   "source": [
    "def circularly_identical(L1, L2, N):\n",
    "    \n",
    "    L1 = roll_N(L1,N)\n",
    "    \n",
    "    print(L1)\n",
    "    \n",
    "    print(L2)\n",
    "    \n",
    "    if len(L1) != len(L2):\n",
    "        print('False')\n",
    "    \n",
    "    if L1 == L2:\n",
    "        print('True')\n",
    "    \n",
    "    elif L1 != L2:\n",
    "        print('False')\n",
    "    \n",
    "    \n",
    "circularly_identical([1,2,3,4,5,6], [1,2,3,4,6,5], 4)\n",
    "    "
   ]
  },
  {
   "cell_type": "markdown",
   "metadata": {},
   "source": [
    "### `for` loops 2: running through a list\n",
    "\n",
    "An alternative, very useful feature in Python is the ability to loop through a `list` (or `tuple`, or other data types that can be interpreted in the same way). To take a simple example:"
   ]
  },
  {
   "cell_type": "code",
   "execution_count": 1,
   "metadata": {
    "collapsed": false
   },
   "outputs": [
    {
     "name": "stdout",
     "output_type": "stream",
     "text": [
      "Hello world\n",
      "Hello Mars\n",
      "Hello Jupiter\n"
     ]
    }
   ],
   "source": [
    "for planet in ['world', 'Mars', 'Jupiter']:\n",
    "    print(\"Hello\", planet)"
   ]
  },
  {
   "cell_type": "markdown",
   "metadata": {},
   "source": [
    "Since there are three items in the input list, the loop is run three times, each time with a different element of the list in the variable `planet`.\n",
    "\n",
    "**Complete the following loop to print out the first 10 square numbers, starting from zero.**"
   ]
  },
  {
   "cell_type": "code",
   "execution_count": 5,
   "metadata": {
    "collapsed": false
   },
   "outputs": [
    {
     "name": "stdout",
     "output_type": "stream",
     "text": [
      "0\n",
      "1\n",
      "4\n",
      "9\n",
      "16\n",
      "25\n",
      "36\n",
      "49\n",
      "64\n",
      "81\n",
      "100\n"
     ]
    }
   ],
   "source": [
    "for i in [0,1,2,3,4,5,6,7,8,9,10]:\n",
    "    print(i**2)"
   ]
  },
  {
   "cell_type": "markdown",
   "metadata": {},
   "source": [
    "Suppose that, rather than print out each of these results, we want to store them in another list. This is such a common task that Python has a shorthand for it, called *list comprehensions*. To see how these work, **evaluate the following cell:**"
   ]
  },
  {
   "cell_type": "code",
   "execution_count": 4,
   "metadata": {
    "collapsed": false
   },
   "outputs": [
    {
     "name": "stdout",
     "output_type": "stream",
     "text": [
      "['Hello world', 'Hello Mars', 'Hello Jupiter']\n"
     ]
    }
   ],
   "source": [
    "greetings = [\"Hello \" + planet for planet in ['world', 'Mars', 'Jupiter']]\n",
    "print(greetings)"
   ]
  },
  {
   "cell_type": "markdown",
   "metadata": {},
   "source": [
    "The general syntax is `[something for element in list]`, where `element` will be set in turn to each element of `list` and used to calculate `something`.\n",
    "\n",
    "Prove that you understand this by **writing a comprehension to generate a list of the first 10 square numbers, starting from zero**. \n",
    "\n",
    "**What if you want instead to start from 1?**"
   ]
  },
  {
   "cell_type": "code",
   "execution_count": 12,
   "metadata": {
    "collapsed": false
   },
   "outputs": [
    {
     "name": "stdout",
     "output_type": "stream",
     "text": [
      "[0, 1, 4, 9, 16, 25, 36, 49, 64, 81, 100]\n"
     ]
    }
   ],
   "source": [
    "squarenumbers = [i**2 for i in [0,1,2,3,4,5,6,7,8,9,10]]\n",
    "print(squarenumbers)\n",
    "# To start from 1, just remove 0 from the above list"
   ]
  },
  {
   "cell_type": "markdown",
   "metadata": {},
   "source": [
    "Sometimes we want to combine the two versions of a `for` loop we've seen: loop through a list, but keep track of what number item we're up to. For this purpose, the `enumerate()` function is our friend:"
   ]
  },
  {
   "cell_type": "code",
   "execution_count": 13,
   "metadata": {
    "collapsed": false
   },
   "outputs": [
    {
     "name": "stdout",
     "output_type": "stream",
     "text": [
      "0 ==> Hello world\n",
      "1 ==> Hello Mars\n",
      "2 ==> Hello Jupiter\n"
     ]
    }
   ],
   "source": [
    "planets = ['world', 'Mars', 'Jupiter']\n",
    "for i, planet in enumerate(planets):\n",
    "    print(i, \"==> Hello\", planet)"
   ]
  },
  {
   "cell_type": "markdown",
   "metadata": {},
   "source": [
    "To join two arbitrary lists in this way, use the `zip()` function:"
   ]
  },
  {
   "cell_type": "code",
   "execution_count": 14,
   "metadata": {
    "collapsed": false
   },
   "outputs": [
    {
     "name": "stdout",
     "output_type": "stream",
     "text": [
      "A satellite of Earth is the moon\n",
      "A satellite of Mars is Phobos\n",
      "A satellite of Jupiter is Europa\n"
     ]
    }
   ],
   "source": [
    "planets = ['Earth', 'Mars', 'Jupiter']\n",
    "moons = ['the moon', 'Phobos', 'Europa']\n",
    "for planet, moon in zip(planets, moons):\n",
    "    print(\"A satellite of\", planet, \"is\", moon)"
   ]
  },
  {
   "cell_type": "markdown",
   "metadata": {},
   "source": [
    "Show that you understand this by **writing a loop that prints out the list of the [Galilean moons](https://en.wikipedia.org/wiki/Galilean_moons), numbered.** \n",
    "\n",
    "Each line of the output should look like\n",
    "\n",
    "    Io is Galilean moon number 0"
   ]
  },
  {
   "cell_type": "code",
   "execution_count": 20,
   "metadata": {
    "collapsed": false
   },
   "outputs": [
    {
     "name": "stdout",
     "output_type": "stream",
     "text": [
      "Io is Galilean moon number 0\n",
      "Europa is Galilean moon number 1\n",
      "Ganymede is Galilean moon number 2\n",
      "Callisto is Galilean moon number 3\n"
     ]
    }
   ],
   "source": [
    "galilean_moons = ['Io', 'Europa', 'Ganymede', 'Callisto']\n",
    "moon_numbers = [0, 1, 2, 3]\n",
    "for galilean_moon, moon_number in zip(galilean_moons, moon_numbers):\n",
    "    print(galilean_moon ,'is Galilean moon number', moon_number)\n",
    "    "
   ]
  },
  {
   "cell_type": "markdown",
   "metadata": {},
   "source": [
    "### `while` loops: running while a condition is true\n",
    "\n",
    "Sometimes we don't know how many steps a loop should run for in advance. For instance, if we're searching for the best possible fit between our data and some model, we should iterate until the quality of the fit no longer improves. This is where a `while` loop comes in handy. \n",
    "\n",
    "As a very simple example to demonstrate syntax, evaluate the following code:"
   ]
  },
  {
   "cell_type": "code",
   "execution_count": 21,
   "metadata": {
    "collapsed": false
   },
   "outputs": [
    {
     "name": "stdout",
     "output_type": "stream",
     "text": [
      "5\n",
      "4\n",
      "3\n",
      "2\n",
      "1\n"
     ]
    }
   ],
   "source": [
    "n = 5\n",
    "while n > 0:\n",
    "    print(n)\n",
    "    n -= 1 # short for n = n - 1"
   ]
  },
  {
   "cell_type": "markdown",
   "metadata": {},
   "source": [
    "You can see that the loop continues to run only while the condition `n > 0` is true. Of course, this is a rather artificial example, because we could have predicted in advance that the loop would run five times, so there is no reason not to use a `for` loop.\n",
    "\n",
    "Before we see a more realistic example, let’s look at a new data type."
   ]
  },
  {
   "cell_type": "markdown",
   "metadata": {},
   "source": [
    "## Tuples\n",
    "\n",
    "Tuples are very much like lists, except that they use round brackets `()` rather than square, and that they are *immutable* (cannot be changed). To see this, try evaluating the following code and note the error message:"
   ]
  },
  {
   "cell_type": "code",
   "execution_count": 22,
   "metadata": {
    "collapsed": false
   },
   "outputs": [
    {
     "ename": "TypeError",
     "evalue": "'tuple' object does not support item assignment",
     "output_type": "error",
     "traceback": [
      "\u001b[0;31m---------------------------------------------------------------------------\u001b[0m",
      "\u001b[0;31mTypeError\u001b[0m                                 Traceback (most recent call last)",
      "\u001b[0;32m<ipython-input-22-fc07209d8563>\u001b[0m in \u001b[0;36m<module>\u001b[0;34m()\u001b[0m\n\u001b[1;32m      3\u001b[0m \u001b[1;33m\u001b[0m\u001b[0m\n\u001b[1;32m      4\u001b[0m \u001b[0mmy_tuple\u001b[0m \u001b[1;33m=\u001b[0m \u001b[1;33m(\u001b[0m\u001b[1;36m1\u001b[0m\u001b[1;33m,\u001b[0m \u001b[1;36m2\u001b[0m\u001b[1;33m,\u001b[0m \u001b[1;36m3\u001b[0m\u001b[1;33m)\u001b[0m\u001b[1;33m\u001b[0m\u001b[0m\n\u001b[0;32m----> 5\u001b[0;31m \u001b[0mmy_tuple\u001b[0m\u001b[1;33m[\u001b[0m\u001b[1;36m0\u001b[0m\u001b[1;33m]\u001b[0m \u001b[1;33m=\u001b[0m \u001b[1;36m100\u001b[0m\u001b[1;33m\u001b[0m\u001b[0m\n\u001b[0m",
      "\u001b[0;31mTypeError\u001b[0m: 'tuple' object does not support item assignment"
     ]
    }
   ],
   "source": [
    "my_list = [1, 2, 3]\n",
    "my_list[0] = 100\n",
    "\n",
    "my_tuple = (1, 2, 3)\n",
    "my_tuple[0] = 100"
   ]
  },
  {
   "cell_type": "markdown",
   "metadata": {},
   "source": [
    "For many purposes they can be used in the same way as lists. One good use is if we want to return more than one value from a function: each function call can only return one object, but if that object is a tuple, it can contain as many individual elements as we like.\n",
    "\n",
    "Tuples will be automatically created even without the round brackets in certain contexts when objects are separated by commas; this feature is known as tuple *packing*:"
   ]
  },
  {
   "cell_type": "code",
   "execution_count": 23,
   "metadata": {
    "collapsed": false
   },
   "outputs": [
    {
     "name": "stdout",
     "output_type": "stream",
     "text": [
      "(1, 2, 3)\n"
     ]
    }
   ],
   "source": [
    "my_tuple = 1, 2, 3\n",
    "print(my_tuple)"
   ]
  },
  {
   "cell_type": "markdown",
   "metadata": {},
   "source": [
    "Similarly and in the opposite direction, we can *unpack* tuples: "
   ]
  },
  {
   "cell_type": "code",
   "execution_count": 26,
   "metadata": {
    "collapsed": false
   },
   "outputs": [
    {
     "name": "stdout",
     "output_type": "stream",
     "text": [
      "1\n"
     ]
    }
   ],
   "source": [
    "a, b, c = my_tuple\n",
    "print(a)"
   ]
  },
  {
   "cell_type": "markdown",
   "metadata": {},
   "source": [
    "Combining these features comes in handy when we are investigating mathematical sequences. Suppose that we are investigating two sequences $a_n$ and $b_n$, which follow the rule that $a_{n+1} = b_n + 1$ and $b_{n+1} = a_n + 1$. To update variables `a` and `b` we could use the following, rather inelegant code:"
   ]
  },
  {
   "cell_type": "code",
   "execution_count": 30,
   "metadata": {
    "collapsed": false
   },
   "outputs": [
    {
     "name": "stdout",
     "output_type": "stream",
     "text": [
      "3 2\n"
     ]
    }
   ],
   "source": [
    "# Some initial values\n",
    "a = 1\n",
    "b = 2\n",
    "\n",
    "temp_a = a       # Save the value of a for later\n",
    "a = b + 1        # Now we can update a ...\n",
    "b = temp_a + 1   # ... and still calculate the correct new value for b.\n",
    "\n",
    "print(a, b)"
   ]
  },
  {
   "cell_type": "markdown",
   "metadata": {},
   "source": [
    "But with tuple packing and unpacking, this becomes rather easier:"
   ]
  },
  {
   "cell_type": "code",
   "execution_count": 28,
   "metadata": {
    "collapsed": false
   },
   "outputs": [
    {
     "name": "stdout",
     "output_type": "stream",
     "text": [
      "3 2\n"
     ]
    }
   ],
   "source": [
    "# Some initial values\n",
    "a = 1\n",
    "b = 2\n",
    "\n",
    "a, b = b + 1, a + 1 # One step!\n",
    "\n",
    "print(a, b)"
   ]
  },
  {
   "cell_type": "markdown",
   "metadata": {},
   "source": [
    "To show you understand this, try evaluating the following sequence:\n",
    "\n",
    "$$a_{n+1} = \\tfrac12(a_n+b_n) \\qquad b_{n+1} = \\sqrt{a_nb_n} \\qquad c_{n+1} = c_n - \\tfrac14d_n(a_n-b_n)^2\n",
    "\\qquad d_{n+1} = 2d_n$$\n",
    "\n",
    "Start from the values $a_0 = 1$, $b_0 = 1/\\sqrt{2}$, $c_0 = \\frac14$, $d_0 = 1$, and **use a `while` loop to follow the rule above until $|a_n - b_n| < 10^{-7}$. How many steps does this take?** (That is, what is the first value of $n$ for which this inequality is true?)\n",
    "\n",
    "Then **calculate**\n",
    "\n",
    "$$ p = \\frac{(a_n + b_n)^2}{4c_n} .$$\n",
    "\n",
    "What do you notice?"
   ]
  },
  {
   "cell_type": "code",
   "execution_count": 47,
   "metadata": {
    "collapsed": false,
    "scrolled": true
   },
   "outputs": [
    {
     "name": "stdout",
     "output_type": "stream",
     "text": [
      "0.8535533905932737 0.8408964152537145\n",
      "0.012656975339559229\n",
      "0.8472249029234942 0.8472012667468914\n",
      "2.363617660272599e-05\n",
      "0.8472130848351929 0.8472130847527654\n",
      "8.242750926257258e-11\n",
      "3\n",
      "3.141592653589794\n"
     ]
    }
   ],
   "source": [
    "a = 1\n",
    "b = 1/sqrt(2)\n",
    "c = 1/4\n",
    "d = 1\n",
    "n = 0\n",
    "while a - b > 10**-7:\n",
    "    a, b, c, d, n = (a + b)/2, sqrt(a*b), c - (d/4)*((a - b)**2), 2*d, n+1\n",
    "    print(a, b)\n",
    "    print(a - b)\n",
    "\n",
    "print(n)\n",
    "\n",
    "p = ((a + b)**2)/(4*c)\n",
    "print(p)\n",
    "#Takes n = 3 for a - b < 10**-7\n",
    "\n",
    "\n"
   ]
  },
  {
   "cell_type": "markdown",
   "metadata": {},
   "source": [
    "▶ **CHECKPOINT 3**"
   ]
  }
 ],
 "metadata": {
  "kernelspec": {
   "display_name": "Python 3",
   "language": "python",
   "name": "python3"
  },
  "language_info": {
   "codemirror_mode": {
    "name": "ipython",
    "version": 3
   },
   "file_extension": ".py",
   "mimetype": "text/x-python",
   "name": "python",
   "nbconvert_exporter": "python",
   "pygments_lexer": "ipython3",
   "version": "3.6.0"
  }
 },
 "nbformat": 4,
 "nbformat_minor": 2
}
