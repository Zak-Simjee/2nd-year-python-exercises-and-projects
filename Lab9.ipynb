{
 "cells": [
  {
   "cell_type": "markdown",
   "metadata": {},
   "source": [
    "# Lab 9: non-linear curve fitting\n",
    "\n",
    "In this lab we will look at how to fit a nonlinear model to a series of observed data points. This is one of the most common numerical tasks in science, and combines many of the different tasks we’ve seen in the module so far. Admittedly, this is also one of the most complex tasks we’ve yet attempted, so we’ll build it up step by step."
   ]
  },
  {
   "cell_type": "code",
   "execution_count": null,
   "metadata": {},
   "outputs": [],
   "source": [
    "import numpy as np\n",
    "import matplotlib.pyplot as plt\n",
    "%matplotlib notebook"
   ]
  },
  {
   "cell_type": "markdown",
   "metadata": {},
   "source": [
    "The task we will set ourselves is to fit the peak in the following experimentally observed data set:"
   ]
  },
  {
   "cell_type": "code",
   "execution_count": null,
   "metadata": {},
   "outputs": [],
   "source": [
    "data_x = np.array([  0.,  25.,  50.,  75., 100., 125., 150., 175., 200.])\n",
    "data_y = np.array([10.6 , 16.  , 45.  , 83.5 , 52.8 , 19.9 , 10.8 ,  8.25,  4.7 ])"
   ]
  },
  {
   "cell_type": "markdown",
   "metadata": {},
   "source": [
    "As always, it's a good idea to **start by plotting these data.**"
   ]
  },
  {
   "cell_type": "code",
   "execution_count": null,
   "metadata": {},
   "outputs": [],
   "source": []
  },
  {
   "cell_type": "markdown",
   "metadata": {},
   "source": [
    "The functional form we will fit is known as a *Lorentzian*, which takes the form\n",
    "\n",
    "$$\n",
    "L(x) = \\frac{A}{(x - x_0)^2 + \\gamma^2}.\n",
    "$$\n",
    "\n",
    "So here our parameters are $\\mathbf{p} = (A, x_0, \\gamma^2)$ which we will represent in Python by `param = (A, x0, gammasq)`.\n",
    "\n",
    "Let’s begin by simply **defining a function to evaluate a Lorentzian**."
   ]
  },
  {
   "cell_type": "code",
   "execution_count": null,
   "metadata": {},
   "outputs": [],
   "source": [
    "def lorentzian(x, param):\n",
    "    \"\"\"Calculates a Lorentzian function at x with parameters param = (A, x0, gamma).\"\"\"\n",
    "    A, x0, gammasq = param\n",
    "    return ..."
   ]
  },
  {
   "cell_type": "markdown",
   "metadata": {},
   "source": [
    "**Check your answer by trying different values for `A`, `x0`, and `gammasq`; plot these curves on top of the data and try to get a reasonable fit “by hand”.**\n",
    "\n",
    "*Hint:* $A$ is the “amplitude” of the curve and simply scales the function vertically; $x_0$ is the centre of the peak; and $\\gamma$ is the half-width at half-maximum."
   ]
  },
  {
   "cell_type": "code",
   "execution_count": null,
   "metadata": {},
   "outputs": [],
   "source": []
  },
  {
   "cell_type": "markdown",
   "metadata": {},
   "source": [
    "▶ **CHECKPOINT 1**"
   ]
  },
  {
   "cell_type": "markdown",
   "metadata": {},
   "source": [
    "The next stage is to specify our function $\\mathbf{g}(\\mathbf{p})$. Recall from the notes that this has components\n",
    "\n",
    "$$\n",
    "g_j(p_1, p_2, \\dots, p_q) = \\sum_{i=1}^n\\big(f(x_i) - y_i\\big)\\frac{\\partial f}{\\partial p_j}(x_i) \\qquad 1\\leq j \\leq q\n",
    "$$\n",
    "\n",
    "or, to be specific for this case,\n",
    "\n",
    "$$\n",
    "g_j(p_1, p_2, p_3) = \\sum_{i=1}^n\\big(L(x_i) - y_i\\big)\\frac{\\partial L}{\\partial p_j}(x_i) \\qquad j = 1, 2, 3\n",
    "$$\n",
    "\n",
    "where our three parameters $p_1 = A$, $p_2 = x_0$, and $p_3 = \\gamma^2$.\n",
    "\n",
    "We have to evaluate the partial derivatives by hand, but that isn’t difficult; for instance,\n",
    "\n",
    "$$\n",
    "\\frac{\\partial L}{\\partial A} = \\frac{1}{(x - x_0)^2 + \\gamma^2}\n",
    "$$\n",
    "\n",
    "and so \n",
    "\n",
    "$$\n",
    "g_1 = \\sum_{i=1}^n\\big(L(x_i) - y_i\\big)\\times\\frac{1}{(x_i - x_0)^2 + \\gamma^2}.\n",
    "$$\n",
    "\n",
    "I have written this term into the function below. **Complete it by adding similar terms for $g_2$ and $g_3$.**"
   ]
  },
  {
   "cell_type": "code",
   "execution_count": null,
   "metadata": {},
   "outputs": [],
   "source": [
    "def g(param, data):\n",
    "    \"\"\"Represents the vector function g derived from a Lorentzian for nonlinear least-squares fitting.\"\"\"\n",
    "    A, x0, gammasq = param\n",
    "    x, y = data\n",
    "    g1 = np.sum((y - lorentzian(x, param))/((x - x0)**2 + gammasq))\n",
    "    g2 = ...\n",
    "    g3 = ...\n",
    "    return g1, g2, g3"
   ]
  },
  {
   "cell_type": "markdown",
   "metadata": {},
   "source": [
    "We now need to find the Jacobian matrix\n",
    "\n",
    "$$\n",
    "\\frac{\\partial\\mathbf{g}}{\\partial\\mathbf{p}} = \\begin{pmatrix}\n",
    "        \\frac{\\partial g_1}{\\partial p_1} & \\frac{\\partial g_1}{\\partial p_2} & \\dots & \\frac{\\partial g_1}{\\partial p_q} \\\\\n",
    "        \\frac{\\partial g_2}{\\partial p_1} & \\frac{\\partial g_2}{\\partial p_2} & \\dots & \\frac{\\partial g_2}{\\partial p_q} \\\\\n",
    "        \\vdots & \\vdots & \\ddots & \\vdots \\\\\n",
    "        \\frac{\\partial g_q}{\\partial p_1} & \\frac{\\partial g_q}{\\partial p_2} & \\dots & \\frac{\\partial g_q}{\\partial p_q} \n",
    "      \\end{pmatrix}.\n",
    "$$\n",
    "\n",
    "Since this would be a pain to calculate by hand, we’ll do it numerically using the central difference method.\n",
    "\n",
    "This is the trickiest part of these calculations to set up, so I have provided a function for you. **Check that you understand how it works.**"
   ]
  },
  {
   "cell_type": "code",
   "execution_count": null,
   "metadata": {},
   "outputs": [],
   "source": [
    "def CD(f, x0, h):\n",
    "    \"\"\"Returns the derivative of f at x0 evaluated using the central difference algorithm with step size h.\"\"\"\n",
    "    return (f(x0 + h/2) - f(x0 - h/2))/np.linalg.norm(h)\n",
    "\n",
    "def jacobian(g, param, data):\n",
    "    \"\"\"Returns the Jacobian matrix of g evaluated at param, given observed data.\"\"\"\n",
    "    p = np.array(param)\n",
    "    delta = 1e-6\n",
    "    N = len(param)\n",
    "    \n",
    "    # Start with an empty matrix of the right size.\n",
    "    jac = np.zeros((N,N))\n",
    "\n",
    "    # We want to calculate df_i/dp_j for all i and j, so need two loops.\n",
    "    for i in range(N):\n",
    "        # Define an appropriate one-dimensional function f_i:\n",
    "        def g_i(x):\n",
    "            return g(x, data)[i]\n",
    "        for j in range(N):\n",
    "            # Set up a step of delta in the appropriate direction:\n",
    "            dv = np.zeros(N)\n",
    "            dv[j] = delta\n",
    "            \n",
    "            jac[i,j] = CD(g_i, p, dv)\n",
    "            \n",
    "    return jac"
   ]
  },
  {
   "cell_type": "markdown",
   "metadata": {},
   "source": [
    "To test the Jacobian code, we’ll evaluate the Jacobian of a simple function:\n",
    "\n",
    "$$\n",
    "\\mathbf{f}(x, y) = (2x - y, xy).\n",
    "$$\n",
    "\n",
    "**Complete the following Python code to define this function.** (Note that, for consistency with the rest of our code, we need a `data` argument even though obviously this particular function doesn’t depend on our experimental data.)"
   ]
  },
  {
   "cell_type": "code",
   "execution_count": null,
   "metadata": {},
   "outputs": [],
   "source": [
    "def f(param, data):\n",
    "    x, y = param\n",
    "    return ..."
   ]
  },
  {
   "cell_type": "markdown",
   "metadata": {},
   "source": [
    "**Calculate the Jacobian by hand. Then evaluate the Jacobian at several $(x,y)$ points, using the code above, and check you get the right answers.** (Again, you will need to pass a `data` argument to `jacobian`; this can be whatever you like, say `None`. An example is given below.)"
   ]
  },
  {
   "cell_type": "code",
   "execution_count": null,
   "metadata": {},
   "outputs": [],
   "source": [
    "jacobian(f, (2,3), None)"
   ]
  },
  {
   "cell_type": "markdown",
   "metadata": {},
   "source": [
    "▶ **CHECKPOINT 2**"
   ]
  },
  {
   "cell_type": "markdown",
   "metadata": {},
   "source": [
    "Finally, we can put all of this code together to use in the multidimensional Newton-Raphson method. Recall, again from the notes, that at each step we replace $\\mathbf{p}$ by\n",
    "\n",
    "$$\n",
    "      \\mathbf{p}-\\left(\\frac{\\partial\\mathbf{g}}{\\partial\\mathbf{p}}\\right)^{-1}\\mathbf{g}(\\mathbf{p}).\n",
    "$$\n",
    "\n",
    "**Complete the definition of the `nD_Newton_step` function below to return this value.** Remember that the multiplication here is a matrix multiplication; you will need to use one the methods to solve matrix equations you learned in the previous lab. (Either will do.)"
   ]
  },
  {
   "cell_type": "code",
   "execution_count": null,
   "metadata": {},
   "outputs": [],
   "source": [
    "def nD_Newton_step(g, p, data):\n",
    "    return ..."
   ]
  },
  {
   "cell_type": "markdown",
   "metadata": {},
   "source": [
    "We have now completed the code needed to do a nonlinear least-squares fit! Try it out by **starting with a suitable guess for the parameters, and iterating Newton-Raphson steps** just as we did in the 1D case. **Plot your best-fit results along with the data.**"
   ]
  },
  {
   "cell_type": "code",
   "execution_count": null,
   "metadata": {},
   "outputs": [],
   "source": [
    "p0 = ...\n",
    "eps = 1e-7\n",
    "converged = False\n",
    "while not converged:\n",
    "    p1 = nD_Newton_step(g, p0, (data_x, data_y))\n",
    "    if np.linalg.norm(p1 - p0) < eps:\n",
    "        converged = True\n",
    "        print(p1)\n",
    "    else:\n",
    "        p0 = p1"
   ]
  },
  {
   "cell_type": "code",
   "execution_count": null,
   "metadata": {},
   "outputs": [],
   "source": []
  },
  {
   "cell_type": "markdown",
   "metadata": {},
   "source": [
    "▶ **CHECKPOINT 3**"
   ]
  },
  {
   "cell_type": "code",
   "execution_count": null,
   "metadata": {},
   "outputs": [],
   "source": []
  }
 ],
 "metadata": {
  "kernelspec": {
   "display_name": "Python 3",
   "language": "python",
   "name": "python3"
  },
  "language_info": {
   "codemirror_mode": {
    "name": "ipython",
    "version": 3
   },
   "file_extension": ".py",
   "mimetype": "text/x-python",
   "name": "python",
   "nbconvert_exporter": "python",
   "pygments_lexer": "ipython3",
   "version": "3.6.3"
  }
 },
 "nbformat": 4,
 "nbformat_minor": 2
}
