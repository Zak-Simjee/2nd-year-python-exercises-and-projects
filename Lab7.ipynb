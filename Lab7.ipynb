{
 "cells": [
  {
   "cell_type": "markdown",
   "metadata": {},
   "source": [
    "# Lab 7: Integration (1)\n",
    "\n",
    "In this lab we will investigate numerical integration methods. We’ll start with the simple trapezoid and Simpson’s rules, with which you may be familiar from your maths study, and move on to the more sophisticated *Gaussian quadrature*.\n",
    "\n",
    "Recall that our general rule for numerical integration is\n",
    "$$\n",
    "\\int_a^b f(x)\\,\\mathrm{d}x \\approx (b-a)\\sum_{i=1}^N w_if(x_i)\n",
    "$$\n",
    "for suitable weights $w_i$ and places $x_i$ to evaluate the function. For the trapezoid and Simpson's rule calculations, the $x_i$ must be evenly spaced; we'll denote the spacing between them by $h$. Then the input to our python function will be a numpy array `d` containing $f(x_i)$. We will need to calculate a suitable weighting array `w` containing the $w_i$ values. Since array multiplication is componentwise, we can then simply calculate `d*w`. The sum is easily evaluated using the Python built-in `sum` function.\n",
    "\n",
    "For the trapezoid rule, the weights array should be\n",
    "$$\n",
    "w = \\tfrac1N\\times(\\tfrac12, 1, 1, \\dots, 1, \\tfrac12).\n",
    "$$\n",
    "Rewriting the integral in a more convenient form, we have\n",
    "$$\n",
    "\\int_a^b f(x)\\,\\mathrm{d}x \\approx h\\sum_{i=1}^N v_if(x_i)\n",
    "$$\n",
    "with\n",
    "$$\n",
    "v = (\\tfrac12, 1, 1, \\dots, 1, \\tfrac12).\n",
    "$$\n",
    "\n",
    "**Write a Python function `trapezoid(d, h)` that returns the estimated integral over the points `d` (in the notation above), using the trapezoid rule.**"
   ]
  },
  {
   "cell_type": "code",
   "execution_count": null,
   "metadata": {},
   "outputs": [],
   "source": [
    "from numpy import array, linspace, logspace, cos, pi, exp, sqrt"
   ]
  },
  {
   "cell_type": "code",
   "execution_count": null,
   "metadata": {},
   "outputs": [],
   "source": [
    "def trapezoid(d, h):\n",
    "    \"\"\"Integrate d using the trapezoid rule.\n",
    "    \n",
    "    d: array of data points evaluated at even spacing h\n",
    "    h: spacing between data points\"\"\"\n",
    "..."
   ]
  },
  {
   "cell_type": "markdown",
   "metadata": {},
   "source": [
    "To test your function, we’ll calculate $\\int_0^{\\pi/2}\\cos(x)\\,\\mathrm{d}x = 1$."
   ]
  },
  {
   "cell_type": "code",
   "execution_count": null,
   "metadata": {},
   "outputs": [],
   "source": [
    "x = linspace(0, pi/2, 100)\n",
    "y = cos(x)\n",
    "print(trapezoid(y, x[1] - x[0]))"
   ]
  },
  {
   "cell_type": "markdown",
   "metadata": {},
   "source": [
    "Assuming that the answer you got above was close to 1, **write a loop to repeat the same calculation with the number $N$ of steps varying from $10$ to $10^7$. Report the error for each step size.**\n",
    "\n",
    "*Hint:* remember that `logspace` from the `pylab` (or `numpy`) module is an easy way of calculating a range of values that increase (or decrease) by a constant factor. If you’re not sure how to use this, try evaluating `logspace(1, 7, 7)`."
   ]
  },
  {
   "cell_type": "code",
   "execution_count": null,
   "metadata": {},
   "outputs": [],
   "source": []
  },
  {
   "cell_type": "markdown",
   "metadata": {},
   "source": [
    "▶ **CHECKPOINT 1**"
   ]
  },
  {
   "cell_type": "markdown",
   "metadata": {},
   "source": [
    "For Simpson’s rule, on the other hand, the weights array should be\n",
    "$$\n",
    "v = \\tfrac13\\times(1, 4, 2, 4, 2, \\dots, 4, 2, 4, 1).\n",
    "$$\n",
    "\n",
    "**Write a Python function `simpson(d, h)` that works in the same way to calculate an integral using Simpson’s rule.**"
   ]
  },
  {
   "cell_type": "code",
   "execution_count": null,
   "metadata": {},
   "outputs": [],
   "source": []
  },
  {
   "cell_type": "markdown",
   "metadata": {},
   "source": [
    "**Repeat the loop from above, again reporting the error at each step size.** Is Simpson’s rule better or worse than the trapezoid rule in evaluating this integral?"
   ]
  },
  {
   "cell_type": "code",
   "execution_count": null,
   "metadata": {},
   "outputs": [],
   "source": []
  },
  {
   "cell_type": "markdown",
   "metadata": {},
   "source": [
    "In the same way as we did for the differentiation algorithms, **plot on the same log-log axes the error against the step size for these two algorithms.** Comment on the shape of these graphs."
   ]
  },
  {
   "cell_type": "code",
   "execution_count": null,
   "metadata": {},
   "outputs": [],
   "source": [
    "%matplotlib notebook\n",
    "from pylab import loglog, xlabel, ylabel, title, legend, figure\n",
    "figure()\n",
    "loglog(...)"
   ]
  },
  {
   "cell_type": "markdown",
   "metadata": {},
   "source": [
    "**Repeat the same calculations** (*i.e.*, calculate the error for a range of step sizes) **for the integral**\n",
    "$$\n",
    "\\int_0^1 \\exp(-x)\\,\\mathrm{d}x = 1 - e^{-1}.\n",
    "$$\n",
    "Are your results consistent with the cosine integral from the previous part? **Make a similar figure.**"
   ]
  },
  {
   "cell_type": "code",
   "execution_count": null,
   "metadata": {},
   "outputs": [],
   "source": []
  },
  {
   "cell_type": "markdown",
   "metadata": {},
   "source": [
    "▶ **CHECKPOINT 2**"
   ]
  },
  {
   "cell_type": "markdown",
   "metadata": {},
   "source": [
    "## Gaussian quadrature\n",
    "\n",
    "As we've discussed in class, a more sophisticated method is Gaussian quadrature. We will explore this briefly using our own code, but then move to using precompiled Fortran code provided by the `scipy` package to implement this method.\n",
    "\n",
    "For two-point Gaussian quadrature from $a$ to $b$, the $x$ values should be\n",
    "$$\n",
    "x = a + \\left(\\frac12 \\pm \\frac{1}{2\\sqrt{3}}\\right)(b - a)\n",
    "$$\n",
    "each point should have weight $w_i = \\frac12$.\n",
    "\n",
    "**Use two-point Gaussian quadrature to evaluate the same two integrals, $\\int_0^{\\pi/2}\\cos(x)\\,\\mathrm dx$ and $\\int_0^1 \\exp(-x)\\,\\mathrm{d}x$. How close do you get to the correct answers?**"
   ]
  },
  {
   "cell_type": "code",
   "execution_count": null,
   "metadata": {},
   "outputs": [],
   "source": []
  },
  {
   "cell_type": "markdown",
   "metadata": {},
   "source": [
    "Now **Import the `quad` function** from the module `scipy.integrate`. **Use the help text** (remember that you can get this by typing `?quad` or `quad?`) to work out how to call this function. (Note that we *don’t* get to choose how many points are evaluated, which will be either 15 or 21 in each subinterval depending on the exact function we use. The price of convenience is complexity!)\n",
    "\n",
    "**Evaluate the two integrals above once again** and compare the absolute error to the best values obtained by the methods we've discussed so far; to the estimate provided by `quad` itself; and to the machine epsilon."
   ]
  },
  {
   "cell_type": "code",
   "execution_count": null,
   "metadata": {},
   "outputs": [],
   "source": [
    "from scipy.integrate import quad\n",
    "..."
   ]
  },
  {
   "cell_type": "code",
   "execution_count": null,
   "metadata": {},
   "outputs": [],
   "source": [
    "from sys import float_info\n",
    "float_info.epsilon"
   ]
  },
  {
   "cell_type": "markdown",
   "metadata": {},
   "source": [
    "▶ **CHECKPOINT 3**"
   ]
  },
  {
   "cell_type": "markdown",
   "metadata": {},
   "source": [
    "## Extension: the Romberg correction\n",
    "\n",
    "We know that Simpson’s rule has an error proportional to $h^4$. Suppose we do two Simpson’s rule calculations, one with step size $h$ and result $S_1$ and another with step size $2h$ and result $S_2$. Then we expect $S_2$ to have $2^4 = 16$ times the error of $S_1$: if $I$ is the true integral, $I - S_2 = 16(I - S_1)$. This suggests a way of improving the calculation: we simply solve for $I$, giving\n",
    "$$\n",
    "I = \\frac{16S_1 - S_2}{15}.\n",
    "$$\n",
    "\n",
    "**Repeat the calculation of errors in known integrals** using the Romberg rule to improve the calculation at each step size, and once again plotting the absolute error against the step size."
   ]
  },
  {
   "cell_type": "code",
   "execution_count": null,
   "metadata": {},
   "outputs": [],
   "source": []
  }
 ],
 "metadata": {
  "kernelspec": {
   "display_name": "Python 3",
   "language": "python",
   "name": "python3"
  },
  "language_info": {
   "codemirror_mode": {
    "name": "ipython",
    "version": 3
   },
   "file_extension": ".py",
   "mimetype": "text/x-python",
   "name": "python",
   "nbconvert_exporter": "python",
   "pygments_lexer": "ipython3",
   "version": "3.6.3"
  }
 },
 "nbformat": 4,
 "nbformat_minor": 2
}
