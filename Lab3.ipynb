{
 "cells": [
  {
   "cell_type": "markdown",
   "metadata": {},
   "source": [
    "# Lab 3: Numerical errors\n",
    "\n",
    "In this lab we will investigate some of the practical implications of the way numbers are stored in computers. In particular, we will look at problems that can arise for the unwary when using floating-point numbers.\n",
    "\n",
    "We will check our answers against the \"official results\" from `sys.float_info` – so before getting any further, let's import this:"
   ]
  },
  {
   "cell_type": "code",
   "execution_count": 1,
   "metadata": {
    "collapsed": true
   },
   "outputs": [],
   "source": [
    "from sys import float_info"
   ]
  },
  {
   "cell_type": "markdown",
   "metadata": {},
   "source": [
    "## Machine precision\n",
    "\n",
    "**Write a program to find the approximate machine precision** – that is, the largest number $\\epsilon$ such that $1 + \\epsilon = 1$ within the precision of the calculation.\n",
    "\n",
    "An appropriate algorithm would be\n",
    "\n",
    "    Set epsilon to 0.1\n",
    "    Loop until 1 + epsilon is equal to 1:\n",
    "        Set epsilon to half its current value"
   ]
  },
  {
   "cell_type": "code",
   "execution_count": 52,
   "metadata": {
    "collapsed": false
   },
   "outputs": [
    {
     "name": "stdout",
     "output_type": "stream",
     "text": [
      "8.881784197001253e-17\n"
     ]
    }
   ],
   "source": [
    "epsilon = 0.1\n",
    "\n",
    "while epsilon + 1 != 1:\n",
    "    epsilon = (epsilon/2)\n",
    "print(epsilon)"
   ]
  },
  {
   "cell_type": "markdown",
   "metadata": {},
   "source": [
    "Let's check this against what we know about how numbers are stored in computers. `float_info.mant_dig` will tell you how many bits (i.e., binary digits) are available to store the significand:"
   ]
  },
  {
   "cell_type": "code",
   "execution_count": 6,
   "metadata": {
    "collapsed": false
   },
   "outputs": [
    {
     "data": {
      "text/plain": [
       "53"
      ]
     },
     "execution_count": 6,
     "metadata": {},
     "output_type": "execute_result"
    }
   ],
   "source": [
    "float_info.mant_dig"
   ]
  },
  {
   "cell_type": "markdown",
   "metadata": {},
   "source": [
    "Can you use this information to calculate the theoretical epsilon? You shouldn't expect to match exactly with the results of your test program (can you see why?) but you should have the correct order of magnitude."
   ]
  },
  {
   "cell_type": "code",
   "execution_count": 36,
   "metadata": {
    "collapsed": false
   },
   "outputs": [
    {
     "data": {
      "text/plain": [
       "2.220446049250313e-16"
      ]
     },
     "execution_count": 36,
     "metadata": {},
     "output_type": "execute_result"
    }
   ],
   "source": [
    "(2**-52)"
   ]
  },
  {
   "cell_type": "markdown",
   "metadata": {},
   "source": [
    "Check your answer against `float_info.epsilon`. This should match your theoretical value exactly."
   ]
  },
  {
   "cell_type": "code",
   "execution_count": 7,
   "metadata": {
    "collapsed": false
   },
   "outputs": [
    {
     "data": {
      "text/plain": [
       "2.220446049250313e-16"
      ]
     },
     "execution_count": 7,
     "metadata": {},
     "output_type": "execute_result"
    }
   ],
   "source": [
    "float_info.epsilon"
   ]
  },
  {
   "cell_type": "markdown",
   "metadata": {},
   "source": [
    "## Overflow and underflow\n",
    "\n",
    "**Write a program to find the maximum and minimum positive numbers representable as a Python `float`.**\n",
    "\n",
    "You can use a very similar algorithm, but this time you will need to test whether the number is equal to $\\infty$, which you can represent as `float('inf')`, or zero."
   ]
  },
  {
   "cell_type": "code",
   "execution_count": 60,
   "metadata": {
    "collapsed": false
   },
   "outputs": [
    {
     "name": "stdout",
     "output_type": "stream",
     "text": [
      "5e-324\n"
     ]
    }
   ],
   "source": [
    "epsilon = 0.1\n",
    "last_one = 0.1\n",
    "while 0 + epsilon != 0:\n",
    "        last_one = epsilon\n",
    "        epsilon = (epsilon/2)\n",
    "            \n",
    "\n",
    "print(last_one)"
   ]
  },
  {
   "cell_type": "code",
   "execution_count": 6,
   "metadata": {
    "collapsed": false
   },
   "outputs": [
    {
     "name": "stdout",
     "output_type": "stream",
     "text": [
      "0.1\n"
     ]
    }
   ],
   "source": [
    "epsilon = 0.1\n",
    "last_one = 0.1\n",
    "while float('inf') + epsilon != float('inf'):\n",
    "        last_one = epsilon\n",
    "        epsilon = (epsilon/2)\n",
    "            \n",
    "\n",
    "print(last_one)"
   ]
  },
  {
   "cell_type": "markdown",
   "metadata": {},
   "source": [
    "**Check your answers** against the \"official\" numbers from the following code:"
   ]
  },
  {
   "cell_type": "code",
   "execution_count": 19,
   "metadata": {
    "collapsed": false
   },
   "outputs": [
    {
     "data": {
      "text/plain": [
       "(2.2250738585072014e-308, 1.7976931348623157e+308)"
      ]
     },
     "execution_count": 19,
     "metadata": {},
     "output_type": "execute_result"
    }
   ],
   "source": [
    "float_info.min, float_info.max"
   ]
  },
  {
   "cell_type": "markdown",
   "metadata": {},
   "source": [
    "You will notice something odd: while the greatest possible number should match your results fairly well, the smallest possible number from your results should be several orders of magnitude than is theoretically possible! This is because of a clever process known as *gradual underflow*. \n",
    "\n",
    "To investigate, **start with a number near the smallest possible, say $10^{-300}$, and divide repeatedly by 300, printing out the result at each step.** What do you notice about the precision of each result? Can you explain what is going on?"
   ]
  },
  {
   "cell_type": "code",
   "execution_count": 4,
   "metadata": {
    "collapsed": false
   },
   "outputs": [
    {
     "name": "stdout",
     "output_type": "stream",
     "text": [
      "3.333333333333333e-303\n",
      "1.1111111111111111e-305\n",
      "3.7037037037037035e-308\n",
      "1.23456790123455e-310\n"
     ]
    }
   ],
   "source": [
    "x = 10**-300\n",
    "\n",
    "while x > 10**-308:\n",
    "    x = x/300\n",
    "    print(x)\n",
    "\n",
    "    "
   ]
  },
  {
   "cell_type": "markdown",
   "metadata": {},
   "source": [
    "## Integer overflow\n",
    "\n",
    "As we noted in class, it's a little tricky to demonstrate integer overflow using the base Python library, because it cleverly increases the amount of memory allocated in order to be able to store arbitrarily large integers. The `array` type from the `numpy` library, however, doesn't do this. (This is on balance a good thing: it is designed to deal fast with very large amounts of data, and being able to specify exactly how much memory should be reserved for each array entry makes sense if there are millions of entries.)\n",
    "\n",
    "We will create an `array` with only one component, which we specify as an integer occupying sixteen bits of memory:"
   ]
  },
  {
   "cell_type": "code",
   "execution_count": 18,
   "metadata": {
    "collapsed": false
   },
   "outputs": [
    {
     "name": "stdout",
     "output_type": "stream",
     "text": [
      "[0]\n"
     ]
    }
   ],
   "source": [
    "from numpy import array\n",
    "my_integer = array([0], dtype='int16')\n",
    "print(my_integer)"
   ]
  },
  {
   "cell_type": "markdown",
   "metadata": {},
   "source": [
    "Remembering that one of those sixteen bits is reserved to indicate the sign, **what is the largest number that can be represented in this array?**"
   ]
  },
  {
   "cell_type": "code",
   "execution_count": 12,
   "metadata": {
    "collapsed": false
   },
   "outputs": [
    {
     "data": {
      "text/plain": [
       "32767"
      ]
     },
     "execution_count": 12,
     "metadata": {},
     "output_type": "execute_result"
    }
   ],
   "source": [
    "2**(15)-1"
   ]
  },
  {
   "cell_type": "markdown",
   "metadata": {},
   "source": [
    "**Check your answer by setting `my_integer[0]` to this number, then adding one.** Is the result what you expect?"
   ]
  },
  {
   "cell_type": "code",
   "execution_count": 13,
   "metadata": {
    "collapsed": false
   },
   "outputs": [
    {
     "name": "stdout",
     "output_type": "stream",
     "text": [
      "-32767\n"
     ]
    }
   ],
   "source": [
    "my_integer[0] = 2**15# insert your number here\n",
    "print(my_integer[0]+1)\n",
    "# now add 1 and print the result"
   ]
  },
  {
   "cell_type": "markdown",
   "metadata": {},
   "source": [
    "▶ **CHECKPOINT 1**"
   ]
  },
  {
   "cell_type": "markdown",
   "metadata": {},
   "source": [
    "## Subtractive cancellation\n",
    "\n",
    "The well-known *quadratic formula* says that the equation $ax^2 + bx + c = 0$ has solutions\n",
    "\n",
    "$$ x_{1, 2} = \\frac{-b \\pm \\sqrt{b^2 - 4ac}}{2a}.$$ \n",
    "\n",
    "However, multiplying numerator and denominator by $-b \\mp \\sqrt{b^2 - 4ac}$, we find that these can alternatively be expressed as\n",
    "\n",
    "$$ x'_{1,2} = \\frac{-2c}{b\\pm\\sqrt{b^2 - 4ac}}.$$\n",
    "\n",
    "**Write a program to calculate all four answers for given $a$, $b$, $c$. Your program should calculate the fractional differences $(x_1 - x_1')/x_1$ and $(x_2 - x_2')/x_2$.** \n",
    "\n",
    "(Remember that you can get a square root function from the `numpy` module: `from numpy import sqrt`.)"
   ]
  },
  {
   "cell_type": "code",
   "execution_count": 40,
   "metadata": {
    "collapsed": false
   },
   "outputs": [
    {
     "name": "stdout",
     "output_type": "stream",
     "text": [
      "x1 is 1.0\n",
      "x2 is -1.0\n",
      "x1 prime is 1.0\n",
      "x2 prime is -1.0\n",
      "Fractional difference for x1 and x1 prime is 0.0\n",
      "Fractional difference for x2 and x2 prime is -0.0\n",
      "---------------------------------------------------------------\n"
     ]
    }
   ],
   "source": [
    "from numpy import sqrt\n",
    "\n",
    "def f(a, b, c):\n",
    "    x1 = ((-b)+(sqrt((b**2) - (4*a*c)))) / (2*a) \n",
    "    x2 = ((-b)-(sqrt((b**2) - (4*a*c)))) / (2*a)\n",
    "    x1prime = (-2*c) / ((b)+(sqrt((b**2) - (4*a*c))))\n",
    "    x2prime = (-2*c) / ((b)-(sqrt((b**2 - (4*a*c)))))\n",
    "    fracdiff_x1 = (x1 - x1prime) / x1\n",
    "    fracdiff_x2 = (x2 - x2prime) / x2\n",
    "    print('x1 is', x1)\n",
    "    print('x2 is', x2)\n",
    "    print('x1 prime is', x1prime)\n",
    "    print('x2 prime is', x2prime)\n",
    "    print('Fractional difference for x1 and x1 prime is', fracdiff_x1)\n",
    "    print('Fractional difference for x2 and x2 prime is', fracdiff_x2)\n",
    "    print('---------------------------------------------------------------')\n",
    "    \n",
    "f(1, 0, -1)"
   ]
  },
  {
   "cell_type": "markdown",
   "metadata": {},
   "source": [
    "We will test your program on the equation with $a = b = 1$, $c = 10^{-n}$, $n = 1, 2, 3, \\dots$, or in other words\n",
    "\n",
    "$$ x^2 + x = -10^{-n}.$$\n",
    "\n",
    "In the limit where the right-hand side tends to zero, of course the solutions are $x_1 = 0$ and $x_2 = -1$. For small but non-zero $c$, we can make a good approximation by noting that, since $x_1$ will be very small, $x_1^2$ will be negligible; thus $x_1\\approx -10^{-n}$. Similarly, $x_2\\approx 1 - 10^{-n}$.\n",
    "\n",
    "**Test your program for $a = b = 1$, $c = 10^{-n}$, $n = 1, 2, 3, \\dots$.** Can you explain your results? Where the two formulae differ, which is the most accurate and why?"
   ]
  },
  {
   "cell_type": "code",
   "execution_count": 47,
   "metadata": {
    "collapsed": false
   },
   "outputs": [
    {
     "name": "stdout",
     "output_type": "stream",
     "text": [
      "x1 is -0.112701665379\n",
      "x2 is -0.887298334621\n",
      "x1 prime is -0.112701665379\n",
      "x2 prime is -0.887298334621\n",
      "Fractional difference for x1 and x1 prime is -1.23137380101e-16\n",
      "Fractional difference for x2 and x2 prime is -1.25123983818e-16\n",
      "---------------------------------------------------------------\n",
      "1\n",
      "x1 is -0.0101020514434\n",
      "x2 is -0.989897948557\n",
      "x1 prime is -0.0101020514434\n",
      "x2 prime is -0.989897948557\n",
      "Fractional difference for x1 and x1 prime is 2.06063905222e-15\n",
      "Fractional difference for x2 and x2 prime is 2.01879541951e-15\n",
      "---------------------------------------------------------------\n",
      "2\n",
      "x1 is -0.00100100200501\n",
      "x2 is -0.998998997995\n",
      "x1 prime is -0.00100100200501\n",
      "x2 prime is -0.998998997995\n",
      "Fractional difference for x1 and x1 prime is -2.42618182002e-14\n",
      "Fractional difference for x2 and x2 prime is -2.42271133258e-14\n",
      "---------------------------------------------------------------\n",
      "3\n",
      "x1 is -0.000100010002\n",
      "x2 is -0.999899989998\n",
      "x1 prime is -0.000100010002001\n",
      "x2 prime is -0.999899989998\n",
      "Fractional difference for x1 and x1 prime is -5.5559804248e-14\n",
      "Fractional difference for x2 and x2 prime is -5.56277368638e-14\n",
      "---------------------------------------------------------------\n",
      "4\n",
      "x1 is -1.0000100002e-05\n",
      "x2 is -0.9999899999\n",
      "x1 prime is -1.0000100002e-05\n",
      "x2 prime is -0.999989999898\n",
      "Fractional difference for x1 and x1 prime is 1.66253964314e-12\n",
      "Fractional difference for x2 and x2 prime is 1.66246458189e-12\n",
      "---------------------------------------------------------------\n",
      "5\n",
      "x1 is -1.00000100001e-06\n",
      "x2 is -0.999998999999\n",
      "x1 prime is -1.000001e-06\n",
      "x2 prime is -0.999998999994\n",
      "Fractional difference for x1 and x1 prime is 4.63390086226e-12\n",
      "Fractional difference for x2 and x2 prime is 4.63396451645e-12\n",
      "---------------------------------------------------------------\n",
      "6\n",
      "x1 is -1.00000009995e-07\n",
      "x2 is -0.9999999\n",
      "x1 prime is -1.0000001e-07\n",
      "x2 prime is -0.999999900051\n",
      "Fractional difference for x1 and x1 prime is -5.11921515864e-11\n",
      "Fractional difference for x2 and x2 prime is -5.11921667401e-11\n",
      "---------------------------------------------------------------\n",
      "7\n",
      "x1 is -1.00000001058e-08\n",
      "x2 is -0.99999999\n",
      "x1 prime is -1.00000001e-08\n",
      "x2 prime is -0.999999989424\n",
      "Fractional difference for x1 and x1 prime is 5.75874037382e-10\n",
      "Fractional difference for x2 and x2 prime is 5.75874131922e-10\n",
      "---------------------------------------------------------------\n",
      "8\n",
      "x1 is -1.00000002723e-09\n",
      "x2 is -0.999999999\n",
      "x1 prime is -1.000000001e-09\n",
      "x2 prime is -0.999999972771\n",
      "Fractional difference for x1 and x1 prime is 2.62292188421e-08\n",
      "Fractional difference for x2 and x2 prime is 2.62292189342e-08\n",
      "---------------------------------------------------------------\n",
      "9\n",
      "x1 is -1.00000008274e-10\n",
      "x2 is -0.9999999999\n",
      "x1 prime is -1.0000000001e-10\n",
      "x2 prime is -0.99999991726\n",
      "Fractional difference for x1 and x1 prime is 8.26403640635e-08\n",
      "Fractional difference for x2 and x2 prime is 8.26403641157e-08\n",
      "---------------------------------------------------------------\n",
      "10\n",
      "x1 is -1.00000008274e-11\n",
      "x2 is -0.99999999999\n",
      "x1 prime is -1.00000000001e-11\n",
      "x2 prime is -0.99999991726\n",
      "Fractional difference for x1 and x1 prime is 8.27303642148e-08\n",
      "Fractional difference for x2 and x2 prime is 8.27303642267e-08\n",
      "---------------------------------------------------------------\n",
      "11\n",
      "x1 is -1.00003338943e-12\n",
      "x2 is -0.999999999999\n",
      "x1 prime is -1e-12\n",
      "x2 prime is -0.999966611684\n",
      "Fractional difference for x1 and x1 prime is 3.33883152929e-05\n",
      "Fractional difference for x2 and x2 prime is 3.33883152928e-05\n",
      "---------------------------------------------------------------\n",
      "12\n",
      "x1 is -1.00031094519e-13\n",
      "x2 is -1.0\n",
      "x1 prime is -1e-13\n",
      "x2 prime is -0.99968915147\n",
      "Fractional difference for x1 and x1 prime is 0.000310848530311\n",
      "Fractional difference for x2 and x2 prime is 0.000310848530312\n",
      "---------------------------------------------------------------\n",
      "13\n",
      "x1 is -9.99200722163e-15\n",
      "x2 is -1.0\n",
      "x1 prime is -1e-14\n",
      "x2 prime is -1.00079991719\n",
      "Fractional difference for x1 and x1 prime is -0.000799917193454\n",
      "Fractional difference for x2 and x2 prime is -0.000799917193454\n",
      "---------------------------------------------------------------\n",
      "14\n",
      "x1 is -9.99200722163e-16\n",
      "x2 is -1.0\n",
      "x1 prime is -1e-15\n",
      "x2 prime is -1.00079991719\n",
      "Fractional difference for x1 and x1 prime is -0.000799917193445\n",
      "Fractional difference for x2 and x2 prime is -0.000799917193445\n",
      "---------------------------------------------------------------\n",
      "15\n",
      "x1 is -1.11022302463e-16\n",
      "x2 is -1.0\n",
      "x1 prime is -1e-16\n",
      "x2 prime is -0.900719925474\n",
      "Fractional difference for x1 and x1 prime is 0.0992800745259\n",
      "Fractional difference for x2 and x2 prime is 0.0992800745259\n",
      "---------------------------------------------------------------\n",
      "16\n",
      "x1 is 0.0\n",
      "x2 is -1.0\n",
      "x1 prime is -1e-17\n",
      "x2 prime is -inf\n",
      "Fractional difference for x1 and x1 prime is inf\n",
      "Fractional difference for x2 and x2 prime is -inf\n",
      "---------------------------------------------------------------\n",
      "17\n",
      "x1 is 0.0\n",
      "x2 is -1.0\n",
      "x1 prime is -1e-18\n",
      "x2 prime is -inf\n",
      "Fractional difference for x1 and x1 prime is inf\n",
      "Fractional difference for x2 and x2 prime is -inf\n",
      "---------------------------------------------------------------\n",
      "18\n",
      "x1 is 0.0\n",
      "x2 is -1.0\n",
      "x1 prime is -1e-19\n",
      "x2 prime is -inf\n",
      "Fractional difference for x1 and x1 prime is inf\n",
      "Fractional difference for x2 and x2 prime is -inf\n",
      "---------------------------------------------------------------\n",
      "19\n"
     ]
    },
    {
     "name": "stderr",
     "output_type": "stream",
     "text": [
      "J:\\Physics\\ComputerWorkshop\\Anaconda3\\lib\\site-packages\\ipykernel\\__main__.py:7: RuntimeWarning: divide by zero encountered in double_scalars\n",
      "J:\\Physics\\ComputerWorkshop\\Anaconda3\\lib\\site-packages\\ipykernel\\__main__.py:8: RuntimeWarning: divide by zero encountered in double_scalars\n"
     ]
    }
   ],
   "source": [
    "for n in range(1,20):\n",
    "    f(1, 1, 10**-n)\n",
    "    print(n)\n",
    "# The two formulae differ at n = 5\n",
    "# The prime x values seem more accurate as they are more precise"
   ]
  },
  {
   "cell_type": "markdown",
   "metadata": {},
   "source": [
    "**What would you expect to happen for the case $a = 1$, $b = -1$, $c = 10^{-n}$, $n = 1, 2, 3, \\dots$?** Make a prediction then use your program to test it."
   ]
  },
  {
   "cell_type": "code",
   "execution_count": 46,
   "metadata": {
    "collapsed": false
   },
   "outputs": [
    {
     "name": "stdout",
     "output_type": "stream",
     "text": [
      "x1 is 0.887298334621\n",
      "x2 is 0.112701665379\n",
      "x1 prime is 0.887298334621\n",
      "x2 prime is 0.112701665379\n",
      "Fractional difference for x1 and x1 prime is -1.25123983818e-16\n",
      "Fractional difference for x2 and x2 prime is -1.23137380101e-16\n",
      "---------------------------------------------------------------\n",
      "1\n",
      "x1 is 0.989897948557\n",
      "x2 is 0.0101020514434\n",
      "x1 prime is 0.989897948557\n",
      "x2 prime is 0.0101020514434\n",
      "Fractional difference for x1 and x1 prime is 2.01879541951e-15\n",
      "Fractional difference for x2 and x2 prime is 2.06063905222e-15\n",
      "---------------------------------------------------------------\n",
      "2\n",
      "x1 is 0.998998997995\n",
      "x2 is 0.00100100200501\n",
      "x1 prime is 0.998998997995\n",
      "x2 prime is 0.00100100200501\n",
      "Fractional difference for x1 and x1 prime is -2.42271133258e-14\n",
      "Fractional difference for x2 and x2 prime is -2.42618182002e-14\n",
      "---------------------------------------------------------------\n",
      "3\n",
      "x1 is 0.999899989998\n",
      "x2 is 0.000100010002\n",
      "x1 prime is 0.999899989998\n",
      "x2 prime is 0.000100010002001\n",
      "Fractional difference for x1 and x1 prime is -5.56277368638e-14\n",
      "Fractional difference for x2 and x2 prime is -5.5559804248e-14\n",
      "---------------------------------------------------------------\n",
      "4\n",
      "x1 is 0.9999899999\n",
      "x2 is 1.0000100002e-05\n",
      "x1 prime is 0.999989999898\n",
      "x2 prime is 1.0000100002e-05\n",
      "Fractional difference for x1 and x1 prime is 1.66246458189e-12\n",
      "Fractional difference for x2 and x2 prime is 1.66253964314e-12\n",
      "---------------------------------------------------------------\n",
      "5\n",
      "x1 is 0.999998999999\n",
      "x2 is 1.00000100001e-06\n",
      "x1 prime is 0.999998999994\n",
      "x2 prime is 1.000001e-06\n",
      "Fractional difference for x1 and x1 prime is 4.63396451645e-12\n",
      "Fractional difference for x2 and x2 prime is 4.63390086226e-12\n",
      "---------------------------------------------------------------\n",
      "6\n",
      "x1 is 0.9999999\n",
      "x2 is 1.00000009995e-07\n",
      "x1 prime is 0.999999900051\n",
      "x2 prime is 1.0000001e-07\n",
      "Fractional difference for x1 and x1 prime is -5.11921667401e-11\n",
      "Fractional difference for x2 and x2 prime is -5.11921515864e-11\n",
      "---------------------------------------------------------------\n",
      "7\n",
      "x1 is 0.99999999\n",
      "x2 is 1.00000001058e-08\n",
      "x1 prime is 0.999999989424\n",
      "x2 prime is 1.00000001e-08\n",
      "Fractional difference for x1 and x1 prime is 5.75874131922e-10\n",
      "Fractional difference for x2 and x2 prime is 5.75874037382e-10\n",
      "---------------------------------------------------------------\n",
      "8\n",
      "x1 is 0.999999999\n",
      "x2 is 1.00000002723e-09\n",
      "x1 prime is 0.999999972771\n",
      "x2 prime is 1.000000001e-09\n",
      "Fractional difference for x1 and x1 prime is 2.62292189342e-08\n",
      "Fractional difference for x2 and x2 prime is 2.62292188421e-08\n",
      "---------------------------------------------------------------\n",
      "9\n",
      "x1 is 0.9999999999\n",
      "x2 is 1.00000008274e-10\n",
      "x1 prime is 0.99999991726\n",
      "x2 prime is 1.0000000001e-10\n",
      "Fractional difference for x1 and x1 prime is 8.26403641157e-08\n",
      "Fractional difference for x2 and x2 prime is 8.26403640635e-08\n",
      "---------------------------------------------------------------\n",
      "10\n",
      "x1 is 0.99999999999\n",
      "x2 is 1.00000008274e-11\n",
      "x1 prime is 0.99999991726\n",
      "x2 prime is 1.00000000001e-11\n",
      "Fractional difference for x1 and x1 prime is 8.27303642267e-08\n",
      "Fractional difference for x2 and x2 prime is 8.27303642148e-08\n",
      "---------------------------------------------------------------\n",
      "11\n",
      "x1 is 0.999999999999\n",
      "x2 is 1.00003338943e-12\n",
      "x1 prime is 0.999966611684\n",
      "x2 prime is 1e-12\n",
      "Fractional difference for x1 and x1 prime is 3.33883152928e-05\n",
      "Fractional difference for x2 and x2 prime is 3.33883152929e-05\n",
      "---------------------------------------------------------------\n",
      "12\n",
      "x1 is 1.0\n",
      "x2 is 1.00031094519e-13\n",
      "x1 prime is 0.99968915147\n",
      "x2 prime is 1e-13\n",
      "Fractional difference for x1 and x1 prime is 0.000310848530312\n",
      "Fractional difference for x2 and x2 prime is 0.000310848530311\n",
      "---------------------------------------------------------------\n",
      "13\n",
      "x1 is 1.0\n",
      "x2 is 9.99200722163e-15\n",
      "x1 prime is 1.00079991719\n",
      "x2 prime is 1e-14\n",
      "Fractional difference for x1 and x1 prime is -0.000799917193454\n",
      "Fractional difference for x2 and x2 prime is -0.000799917193454\n",
      "---------------------------------------------------------------\n",
      "14\n",
      "x1 is 1.0\n",
      "x2 is 9.99200722163e-16\n",
      "x1 prime is 1.00079991719\n",
      "x2 prime is 1e-15\n",
      "Fractional difference for x1 and x1 prime is -0.000799917193445\n",
      "Fractional difference for x2 and x2 prime is -0.000799917193445\n",
      "---------------------------------------------------------------\n",
      "15\n",
      "x1 is 1.0\n",
      "x2 is 1.11022302463e-16\n",
      "x1 prime is 0.900719925474\n",
      "x2 prime is 1e-16\n",
      "Fractional difference for x1 and x1 prime is 0.0992800745259\n",
      "Fractional difference for x2 and x2 prime is 0.0992800745259\n",
      "---------------------------------------------------------------\n",
      "16\n",
      "x1 is 1.0\n",
      "x2 is 0.0\n",
      "x1 prime is -inf\n",
      "x2 prime is 1e-17\n",
      "Fractional difference for x1 and x1 prime is inf\n",
      "Fractional difference for x2 and x2 prime is -inf\n",
      "---------------------------------------------------------------\n",
      "17\n",
      "x1 is 1.0\n",
      "x2 is 0.0\n",
      "x1 prime is -inf\n",
      "x2 prime is 1e-18\n",
      "Fractional difference for x1 and x1 prime is inf\n",
      "Fractional difference for x2 and x2 prime is -inf\n",
      "---------------------------------------------------------------\n",
      "18\n",
      "x1 is 1.0\n",
      "x2 is 0.0\n",
      "x1 prime is -inf\n",
      "x2 prime is 1e-19\n",
      "Fractional difference for x1 and x1 prime is inf\n",
      "Fractional difference for x2 and x2 prime is -inf\n",
      "---------------------------------------------------------------\n",
      "19\n"
     ]
    },
    {
     "name": "stderr",
     "output_type": "stream",
     "text": [
      "J:\\Physics\\ComputerWorkshop\\Anaconda3\\lib\\site-packages\\ipykernel\\__main__.py:6: RuntimeWarning: divide by zero encountered in double_scalars\n",
      "J:\\Physics\\ComputerWorkshop\\Anaconda3\\lib\\site-packages\\ipykernel\\__main__.py:9: RuntimeWarning: divide by zero encountered in double_scalars\n"
     ]
    }
   ],
   "source": [
    "# I predict that changing b to -1 will change the signs of the x values\n",
    "\n",
    "for n in range(1,20):\n",
    "    f(1, -1, 10**-n)\n",
    "    print(n)"
   ]
  },
  {
   "cell_type": "markdown",
   "metadata": {},
   "source": [
    "▶ **CHECKPOINT 2**"
   ]
  },
  {
   "cell_type": "markdown",
   "metadata": {},
   "source": [
    "## Series summation\n",
    "\n",
    "We will write our own (Python) function to calculate the (mathematical) sine function. One obvious way is to evaluate the Taylor series:\n",
    "\n",
    "$$\n",
    "\\sin x = x - \\frac{x^3}{3!} + \\frac{x^5}{5!} - \\frac{x^7}{7!} + \\dots = \\sum_{n=1}^\\infty\\frac{(-1)^{n-1}x^{2n-1}}{(2n-1)!}\n",
    "$$\n",
    "\n",
    "A small trick will come in useful here. As $n$ gets larger (and we will certainly need to add lots of terms to get an accurate result!) it will take longer and longer to calculate both $x^{2n-1}$ and $(2n-1)!$. However, both of these are easy to calculate *given the previous term*. So the smart way to evaluate this series is to keep track of the previous term added, and then use a recursive relationship\n",
    "\n",
    "$$\n",
    "t_{n} = t_{n-1} \\times \\frac{-x^2}{(2n - 1)(2n - 2)}.\n",
    "$$\n",
    "\n",
    "**Check that you understand** how this works, then **write a function `sine_sum(x)`** to calculate $\\sin(x)$ by this method. You will need to make a sensible choice for when to stop adding terms: discuss this with your demonstrator if you're not sure."
   ]
  },
  {
   "cell_type": "code",
   "execution_count": null,
   "metadata": {
    "collapsed": true
   },
   "outputs": [],
   "source": [
    "def sine_sum(x):\n",
    "    for n in range\n",
    "    \n",
    "    nterm = x*((-(x**2)) \n",
    "    # your code here"
   ]
  },
  {
   "cell_type": "markdown",
   "metadata": {},
   "source": [
    "With care, it is not difficult to write functions that can cope with `array` arguments. However, there is a \"cheat\" way to do this automatically, using the `vectorize` function from `numpy`:"
   ]
  },
  {
   "cell_type": "code",
   "execution_count": null,
   "metadata": {
    "collapsed": true
   },
   "outputs": [],
   "source": [
    "from numpy import vectorize\n",
    "sine_sum = vectorize(sine_sum)"
   ]
  },
  {
   "cell_type": "markdown",
   "metadata": {},
   "source": [
    "Now you can call `sine_sum()` on an array in the same way as you can on the library `sin()` function. This lets us plot this function very easily. \n",
    "\n",
    "(Advanced Python note: if you know in advance you are going to do this, you can use the *decorator* syntax:\n",
    "\n",
    "    from numpy import vectorize\n",
    "    \n",
    "    @vectorize\n",
    "    def sine_sum(x):\n",
    "        #... function definition goes here\n",
    "\n",
    "This does the same thing as calling `sine_sum = vectorize(sine_sum)` after the event as we’ve done here.)\n",
    "\n",
    "**Complete the following code** to plot both your function and the library one. "
   ]
  },
  {
   "cell_type": "code",
   "execution_count": null,
   "metadata": {
    "collapsed": true
   },
   "outputs": [],
   "source": [
    "%matplotlib notebook\n",
    "from pylab import plot, grid, xlim, ylim, sin, linspace\n",
    "\n",
    "x = linspace(...) # choose some appropriate values here\n",
    "y_series = sine_sum(x)\n",
    "y_library = sin(x)\n",
    "\n",
    "plot(x, y_series, x, y_library) # The plot command can take as many x, y pairs as you like.\n",
    "                                # Note that we do need to repeat x here since this array represents\n",
    "                                # the x values of two different lines on the plot.\n",
    "        \n",
    "# you might like to set the x and y limits using the xlim and ylim functions, or to apply a grid.\n",
    "# e.g., ylim(-2, 2) will set the y range to run from -2 to 2."
   ]
  },
  {
   "cell_type": "markdown",
   "metadata": {},
   "source": [
    "When does your function start to diverge noticeably from the library one? Can you explain why it eventually stops behaving as well as the library function? Can you think of a way to fix this problem? (*Hint*: consider the periodicity of the $\\sin$ function.)"
   ]
  },
  {
   "cell_type": "code",
   "execution_count": null,
   "metadata": {
    "collapsed": true
   },
   "outputs": [],
   "source": []
  },
  {
   "cell_type": "markdown",
   "metadata": {},
   "source": [
    "▶ **CHECKPOINT 3**"
   ]
  }
 ],
 "metadata": {
  "kernelspec": {
   "display_name": "Python 3",
   "language": "python",
   "name": "python3"
  },
  "language_info": {
   "codemirror_mode": {
    "name": "ipython",
    "version": 3
   },
   "file_extension": ".py",
   "mimetype": "text/x-python",
   "name": "python",
   "nbconvert_exporter": "python",
   "pygments_lexer": "ipython3",
   "version": "3.6.0"
  }
 },
 "nbformat": 4,
 "nbformat_minor": 2
}
